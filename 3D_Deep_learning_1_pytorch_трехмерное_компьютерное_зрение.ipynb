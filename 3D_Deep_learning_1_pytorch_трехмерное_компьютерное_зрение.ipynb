{
  "nbformat": 4,
  "nbformat_minor": 0,
  "metadata": {
    "colab": {
      "provenance": [],
      "authorship_tag": "ABX9TyNo90ZVVL5UPOO+B/mxXIaj",
      "include_colab_link": true
    },
    "kernelspec": {
      "name": "python3",
      "display_name": "Python 3"
    },
    "language_info": {
      "name": "python"
    }
  },
  "cells": [
    {
      "cell_type": "markdown",
      "metadata": {
        "id": "view-in-github",
        "colab_type": "text"
      },
      "source": [
        "<a href=\"https://colab.research.google.com/github/kraken114/Colab/blob/main/3D_Deep_learning_1_pytorch_%D1%82%D1%80%D0%B5%D1%85%D0%BC%D0%B5%D1%80%D0%BD%D0%BE%D0%B5_%D0%BA%D0%BE%D0%BC%D0%BF%D1%8C%D1%8E%D1%82%D0%B5%D1%80%D0%BD%D0%BE%D0%B5_%D0%B7%D1%80%D0%B5%D0%BD%D0%B8%D0%B5.ipynb\" target=\"_parent\"><img src=\"https://colab.research.google.com/assets/colab-badge.svg\" alt=\"Open In Colab\"/></a>"
      ]
    },
    {
      "cell_type": "markdown",
      "source": [
        "https://github.com/PacktPublishing/3D-Deep-Learning-with-Python/blob/main/chap2/data/cow_mesh/cow.mtl"
      ],
      "metadata": {
        "id": "Pedr5uB8Htau"
      }
    },
    {
      "cell_type": "markdown",
      "source": [
        "# **Пример программирования 3D-отрисовки**"
      ],
      "metadata": {
        "id": "slzTjDPl9vFc"
      }
    },
    {
      "cell_type": "markdown",
      "source": [
        "**1. Вначале необходимо импортировать все требующиеся модули Python:**"
      ],
      "metadata": {
        "id": "6uuj9NCZ-6fS"
      }
    },
    {
      "cell_type": "code",
      "source": [
        "%%capture\n",
        "!pip install open3d\n",
        "# блок установки pytorch3d\n",
        "import os\n",
        "import sys\n",
        "import torch\n",
        "need_pytorch3d=False\n",
        "try:\n",
        "    import pytorch3d\n",
        "except ModuleNotFoundError:\n",
        "    need_pytorch3d=True\n",
        "if need_pytorch3d:\n",
        "    if torch.__version__.startswith(\"2.2.\") and sys.platform.startswith(\"linux\"):\n",
        "        # We try to install PyTorch3D via a released wheel.\n",
        "        pyt_version_str=torch.__version__.split(\"+\")[0].replace(\".\", \"\")\n",
        "        version_str=\"\".join([\n",
        "            f\"py3{sys.version_info.minor}_cu\",\n",
        "            torch.version.cuda.replace(\".\",\"\"),\n",
        "            f\"_pyt{pyt_version_str}\"\n",
        "        ])\n",
        "        !pip install fvcore iopath\n",
        "        !pip install --no-index --no-cache-dir pytorch3d -f https://dl.fbaipublicfiles.com/pytorch3d/packaging/wheels/{version_str}/download.html\n",
        "    else:\n",
        "        # We try to install PyTorch3D from source.\n",
        "        !pip install 'git+https://github.com/facebookresearch/pytorch3d.git@stable'"
      ],
      "metadata": {
        "id": "YZ6lk9Sr-kVc"
      },
      "execution_count": null,
      "outputs": []
    },
    {
      "cell_type": "code",
      "execution_count": null,
      "metadata": {
        "id": "1gt3_aHqybfI"
      },
      "outputs": [],
      "source": [
        "# import open3d\n",
        "import os\n",
        "import sys\n",
        "import torch\n",
        "import matplotlib.pyplot as plt"
      ]
    },
    {
      "cell_type": "code",
      "source": [
        "%%capture\n",
        "!wget https://graphics.stanford.edu/~mdfisher/Data/Meshes/bunny.obj\n",
        "import numpy as np\n",
        "import plotly.graph_objects as go\n",
        "import open3d\n",
        "from pytorch3d.io import load_ply"
      ],
      "metadata": {
        "id": "rLNCTjcrbUaw"
      },
      "execution_count": null,
      "outputs": []
    },
    {
      "cell_type": "code",
      "source": [
        "# https://linkhs.github.io/Colab/Open3D/Open3D_visualization.html\n",
        "def draw_geometries(geometries):\n",
        "    graph_objects = []\n",
        "\n",
        "    for geometry in geometries:\n",
        "        geometry_type = geometry.get_geometry_type()\n",
        "\n",
        "        if geometry_type == open3d.geometry.Geometry.Type.PointCloud:\n",
        "            points = np.asarray(geometry.points)\n",
        "            colors = None\n",
        "            if geometry.has_colors():\n",
        "                colors = np.asarray(geometry.colors)\n",
        "            elif geometry.has_normals():\n",
        "                colors = (0.5, 0.5, 0.5) + np.asarray(geometry.normals) * 0.5\n",
        "            else:\n",
        "                geometry.paint_uniform_color((1.0, 0.0, 0.0))\n",
        "                colors = np.asarray(geometry.colors)\n",
        "\n",
        "            scatter_3d = go.Scatter3d(x=points[:,0], y=points[:,1], z=points[:,2], mode='markers', marker=dict(size=1, color=colors))\n",
        "            graph_objects.append(scatter_3d)\n",
        "\n",
        "        if geometry_type == open3d.geometry.Geometry.Type.TriangleMesh:\n",
        "            triangles = np.asarray(geometry.triangles)\n",
        "            vertices = np.asarray(geometry.vertices)\n",
        "            colors = None\n",
        "            if geometry.has_triangle_normals():\n",
        "                colors = (0.5, 0.5, 0.5) + np.asarray(geometry.triangle_normals) * 0.5\n",
        "                colors = tuple(map(tuple, colors))\n",
        "            else:\n",
        "                colors = (1.0, 0.0, 0.0)\n",
        "\n",
        "            mesh_3d = go.Mesh3d(x=vertices[:,0], y=vertices[:,1], z=vertices[:,2], i=triangles[:,0], j=triangles[:,1], k=triangles[:,2], facecolor=colors, opacity=0.50)\n",
        "            graph_objects.append(mesh_3d)\n",
        "\n",
        "    fig = go.Figure(\n",
        "        data=graph_objects,\n",
        "        layout=dict(\n",
        "            scene=dict(\n",
        "                xaxis=dict(visible=False),\n",
        "                yaxis=dict(visible=False),\n",
        "                zaxis=dict(visible=False)\n",
        "            )\n",
        "        )\n",
        "    )\n",
        "    fig.show()"
      ],
      "metadata": {
        "id": "8SV-H7wjbXDj"
      },
      "execution_count": null,
      "outputs": []
    },
    {
      "cell_type": "code",
      "source": [
        "device = 'cuda' if torch.cuda.is_available() else 'cpu'"
      ],
      "metadata": {
        "id": "YxXsQSaxCmih"
      },
      "execution_count": null,
      "outputs": []
    },
    {
      "cell_type": "code",
      "source": [
        "# Функция-утилита для загрузки полигональных сеток\n",
        "from pytorch3d.io import load_objs_as_meshes"
      ],
      "metadata": {
        "id": "XWr1uq2l-NxH"
      },
      "execution_count": null,
      "outputs": []
    },
    {
      "cell_type": "code",
      "source": [
        "# Структуры данных и функции для отрисовки\n",
        "from pytorch3d.renderer import (\n",
        "look_at_view_transform,\n",
        "PerspectiveCameras,\n",
        "PerspectiveCameras,\n",
        "PointLights,\n",
        "Materials,\n",
        "RasterizationSettings,\n",
        "MeshRenderer,\n",
        "MeshRasterizer\n",
        ")\n",
        "from pytorch3d.renderer.mesh.shader import HardPhongShader\n",
        "sys.path.append(os.path.abspath(''))"
      ],
      "metadata": {
        "id": "p6BKOuCW-NkN"
      },
      "execution_count": null,
      "outputs": []
    },
    {
      "cell_type": "markdown",
      "source": [
        "**2. Затем загружаем используемую в примере полигональную сетку. OBJ-**\n",
        "**файл cow.obj содержит сеточную модель объекта игрушечной коровы:**"
      ],
      "metadata": {
        "id": "8d2A1d4iBIqt"
      }
    },
    {
      "cell_type": "code",
      "source": [
        "# Задать пути\n",
        "DATA_DIR = \"/content/data\"\n",
        "obj_filename = os.path.join(DATA_DIR, \"/content/data/cow.obj\")\n",
        "# device = torch.device('cuda')\n",
        "# Загрузить OBJ-файл\n",
        "mesh = load_objs_as_meshes([obj_filename])#, device=device)"
      ],
      "metadata": {
        "id": "KA-5qFes-NXo"
      },
      "execution_count": null,
      "outputs": []
    },
    {
      "cell_type": "code",
      "source": [
        "# это с cudой\n",
        "# R, T = look_at_view_transform(2.7, 0, 180)\n",
        "# cameras = PerspectiveCameras(device=device, R=R, T=T)\n",
        "# lights = PointLights(device=device, location=[[0.0, 0.0, -3.0]])"
      ],
      "metadata": {
        "id": "RJObH8FdDALd"
      },
      "execution_count": null,
      "outputs": []
    },
    {
      "cell_type": "code",
      "source": [
        "R, T = look_at_view_transform(2.7, 0, 180)\n",
        "cameras = PerspectiveCameras( R=R, T=T)\n",
        "lights = PointLights( location=[[0.0, 0.0, -3.0]])"
      ],
      "metadata": {
        "id": "YLJZISRcDMZB"
      },
      "execution_count": null,
      "outputs": []
    },
    {
      "cell_type": "code",
      "source": [
        "# это с cudой\n",
        "# raster_settings = RasterizationSettings(\n",
        "# image_size=512,\n",
        "# blur_radius=0.0,\n",
        "# faces_per_pixel=1,\n",
        "# )\n",
        "# renderer = MeshRenderer(\n",
        "# rasterizer=MeshRasterizer(\n",
        "# cameras=cameras,\n",
        "# raster_settings=raster_settings\n",
        "# ),\n",
        "# shader = HardPhongShader(\n",
        "# device=device,\n",
        "# cameras=cameras,\n",
        "# lights=lights\n",
        "# )\n",
        "# )"
      ],
      "metadata": {
        "id": "VETmzfBADbBL"
      },
      "execution_count": null,
      "outputs": []
    },
    {
      "cell_type": "code",
      "source": [
        "raster_settings = RasterizationSettings(\n",
        "image_size=512,\n",
        "blur_radius=0.0,\n",
        "faces_per_pixel=1,\n",
        ")\n",
        "renderer = MeshRenderer(\n",
        "rasterizer=MeshRasterizer(\n",
        "cameras=cameras,\n",
        "raster_settings=raster_settings\n",
        "),\n",
        "shader = HardPhongShader(\n",
        "\n",
        "cameras=cameras,\n",
        "lights=lights\n",
        ")\n",
        ")"
      ],
      "metadata": {
        "id": "UUSiPYS7Dl3r"
      },
      "execution_count": null,
      "outputs": []
    },
    {
      "cell_type": "code",
      "source": [
        "# это с cudой\n",
        "# lights.location = torch.tensor([0.0, 0.0, +1.0],device=device)[None]\n",
        "# images = renderer(mesh)\n",
        "# plt.figure(figsize=(10, 10))\n",
        "# plt.imshow(images[0, ..., :3].cpu().numpy())\n",
        "# plt.axis(\"off\")\n",
        "# plt.savefig('light_at_front.png')\n",
        "# plt.show()"
      ],
      "metadata": {
        "id": "b7ffhDRDDwFK"
      },
      "execution_count": null,
      "outputs": []
    },
    {
      "cell_type": "code",
      "source": [
        "# lights.location = torch.tensor([0.0, 0.0, +1.0])[None]\n",
        "images = renderer(mesh)\n",
        "plt.figure(figsize=(10, 10))\n",
        "plt.imshow(images[0, ..., :3].numpy())\n",
        "plt.axis(\"off\")\n",
        "plt.savefig('light_at_front.png')\n",
        "plt.show()"
      ],
      "metadata": {
        "colab": {
          "base_uri": "https://localhost:8080/",
          "height": 807
        },
        "id": "5wMOE2a5D0oY",
        "outputId": "d728fdc1-f941-4615-dd64-e0c2d215dbb7"
      },
      "execution_count": null,
      "outputs": [
        {
          "output_type": "display_data",
          "data": {
            "text/plain": [
              "<Figure size 1000x1000 with 1 Axes>"
            ],
            "image/png": "[encoded data removed]"
          },
          "metadata": {}
        }
      ]
    },
    {
      "cell_type": "code",
      "source": [
        "lights.location = torch.tensor([0.0, 0.0, +1.0])[None]\n",
        "images = renderer(mesh, lights=lights, )\n",
        "plt.figure(figsize=(10, 10))\n",
        "plt.imshow(images[0, ..., :3].numpy())\n",
        "plt.axis(\"off\")\n",
        "plt.savefig('light_at_back.png')\n",
        "plt.show()"
      ],
      "metadata": {
        "colab": {
          "base_uri": "https://localhost:8080/",
          "height": 807
        },
        "id": "vuvOOJRhIMia",
        "outputId": "7b6abb46-7b33-48e7-9d31-1eae7b1b0801"
      },
      "execution_count": null,
      "outputs": [
        {
          "output_type": "display_data",
          "data": {
            "text/plain": [
              "<Figure size 1000x1000 with 1 Axes>"
            ],
            "image/png": "[encoded data removed]"
          },
          "metadata": {}
        }
      ]
    },
    {
      "cell_type": "code",
      "source": [
        "# # это с cudой\n",
        "# # Задать зеркальный цвет, блеск материала и\n",
        "# # цвет окружающих компонент\n",
        "# materials = Materials(\n",
        "# device=device,\n",
        "# specular_color=[[0.0, 1.0, 0.0]],\n",
        "# shininess=10.0,\n",
        "# ambient_color=((0.01, 0.01, 0.01),),\n",
        "# )\n",
        "# images = renderer(mesh, lights=lights, materials=materials)\n",
        "# plt.figure(figsize=(10, 10))\n",
        "# plt.imshow(images[0, ..., :3].cpu().numpy())\n",
        "# plt.axis(\"off\")\n",
        "# plt.savefig('dark.png')\n",
        "# plt.show()"
      ],
      "metadata": {
        "id": "XbpwkBIcI9Ly"
      },
      "execution_count": null,
      "outputs": []
    },
    {
      "cell_type": "code",
      "source": [
        "# это с cudой\n",
        "# Задать зеркальный цвет, блеск материала и\n",
        "# цвет окружающих компонент\n",
        "materials = Materials(\n",
        "specular_color=[[0.0, 1.0, 0.0]],\n",
        "shininess=10.0,\n",
        "ambient_color=((0.01, 0.01, 0.01),),\n",
        ")\n",
        "images = renderer(mesh, lights=lights, materials=materials)\n",
        "plt.figure(figsize=(10, 10))\n",
        "plt.imshow(images[0, ..., :3].numpy())\n",
        "plt.axis(\"off\")\n",
        "plt.savefig('dark.png')\n",
        "plt.show()"
      ],
      "metadata": {
        "colab": {
          "base_uri": "https://localhost:8080/",
          "height": 807
        },
        "id": "140sCgljJDzY",
        "outputId": "cd820149-175e-4512-8227-3fb49f058bde"
      },
      "execution_count": null,
      "outputs": [
        {
          "output_type": "display_data",
          "data": {
            "text/plain": [
              "<Figure size 1000x1000 with 1 Axes>"
            ],
            "image/png": "[encoded data removed]"
          },
          "metadata": {}
        }
      ]
    },
    {
      "cell_type": "code",
      "source": [
        "R, T = look_at_view_transform(dist=2.7, elev=10, azim=-150)\n",
        "cameras = PerspectiveCameras( R=R, T=T)\n",
        "lights.location = torch.tensor([[2.0, 2.0, -2.0]])#, device=device)\n",
        "# Изменить зеркальный цвет на зеленый и\n",
        "# изменить блеск материала\n",
        "materials = Materials(\n",
        "specular_color=[[0.0, 1.0, 0.0]],\n",
        "shininess=10.0\n",
        ")\n",
        "# Повторить отрисовку полигональной сетки,\n",
        "# передав именованные аргументы для измененных компонент.\n",
        "images = renderer(mesh, lights=lights,\n",
        "materials=materials, cameras=cameras)\n",
        "plt.figure(figsize=(10, 10))\n",
        "plt.imshow(images[0, ..., :3].numpy())\n",
        "plt.axis(\"off\")\n",
        "plt.savefig('green.png')\n",
        "plt.show()"
      ],
      "metadata": {
        "colab": {
          "base_uri": "https://localhost:8080/",
          "height": 807
        },
        "id": "zJg0Ub9LJY4Q",
        "outputId": "62258d4d-eb89-4631-967b-fbe3a5622d2c"
      },
      "execution_count": null,
      "outputs": [
        {
          "output_type": "display_data",
          "data": {
            "text/plain": [
              "<Figure size 1000x1000 with 1 Axes>"
            ],
            "image/png": "[encoded data removed]"
          },
          "metadata": {}
        }
      ]
    },
    {
      "cell_type": "markdown",
      "source": [
        "# **Пример программирования разнородных мини-пакетов**"
      ],
      "metadata": {
        "id": "c__UKA_IZbSA"
      }
    },
    {
      "cell_type": "code",
      "source": [
        "import os\n",
        "import torch\n",
        "from pytorch3d.io import load_objs_as_meshes\n",
        "from pytorch3d.structures.meshes import join_meshes_as_batch\n",
        "from pytorch3d.ops import sample_points_from_meshes\n",
        "from pytorch3d.loss import chamfer_distance\n",
        "import numpy as np"
      ],
      "metadata": {
        "id": "l8PyJMYrZbFJ"
      },
      "execution_count": null,
      "outputs": []
    },
    {
      "cell_type": "code",
      "source": [
        "if torch.cuda.is_available():\n",
        "  device = torch.device(\"cuda:0\")\n",
        "else:\n",
        "  device = torch.device(\"cpu\")\n",
        "  print(\"ПРЕДУПРЕЖДЕНИЕ: только CPU, очень медленно!\")"
      ],
      "metadata": {
        "colab": {
          "base_uri": "https://localhost:8080/"
        },
        "id": "D4AtsDrdZbBz",
        "outputId": "816641a6-42c1-49dc-d7af-3af1d821eedf"
      },
      "execution_count": null,
      "outputs": [
        {
          "output_type": "stream",
          "name": "stdout",
          "text": [
            "ПРЕДУПРЕЖДЕНИЕ: только CPU, очень медленно!\n"
          ]
        }
      ]
    },
    {
      "cell_type": "code",
      "source": [
        "/content/bunny.obj"
      ],
      "metadata": {
        "id": "jxCRLN_hZa-6"
      },
      "execution_count": null,
      "outputs": []
    },
    {
      "cell_type": "code",
      "source": [
        "mesh_names = ['cube.obj', 'diamond.obj', 'dodecahedron.obj']\n",
        "data_path = '/content/'\n",
        "for mesh_name in mesh_names:\n",
        "  mesh = open3d.io.read_triangle_mesh(os.path.join(data_path, mesh_name))\n",
        "  open3d.visualization.draw_geometries([mesh],\n",
        "  mesh_show_wireframe=True,\n",
        "  mesh_show_back_face=True)"
      ],
      "metadata": {
        "id": "AjrIm7E2Za8I"
      },
      "execution_count": null,
      "outputs": []
    },
    {
      "cell_type": "code",
      "source": [
        "mesh_names = ['cube.obj', 'diamond.obj', 'dodecahedron.obj']\n",
        "data_path = '/content/'\n",
        "for mesh_name in mesh_names:\n",
        "  mesh = open3d.io.read_triangle_mesh(os.path.join(data_path, mesh_name))\n",
        "  if mesh.is_empty(): exit()\n",
        "  triangles = np.asarray(mesh.triangles)\n",
        "  vertices = np.asarray(mesh.vertices)\n",
        "  colors = None\n",
        "  if mesh.has_triangle_normals():\n",
        "      colors = (0.5, 0.5, 0.5) + np.asarray(mesh.triangle_normals) * 0.5\n",
        "      colors = tuple(map(tuple, colors))\n",
        "  else:\n",
        "      colors = (1.0, 0.0, 0.0)\n",
        "\n",
        "  fig = go.Figure(\n",
        "      data=[\n",
        "          go.Mesh3d(\n",
        "              x=vertices[:,0],\n",
        "              y=vertices[:,1],\n",
        "              z=vertices[:,2],\n",
        "              i=triangles[:,0],\n",
        "              j=triangles[:,1],\n",
        "              k=triangles[:,2],\n",
        "              facecolor=colors,\n",
        "              opacity=0.50)\n",
        "      ],\n",
        "      layout=dict(\n",
        "          scene=dict(\n",
        "              xaxis=dict(visible=False),\n",
        "              yaxis=dict(visible=False),\n",
        "              zaxis=dict(visible=False)\n",
        "          )\n",
        "      )\n",
        "  )\n",
        "  fig.show()"
      ],
      "metadata": {
        "colab": {
          "base_uri": "https://localhost:8080/",
          "height": 1000
        },
        "id": "q8CgijBSZa5N",
        "outputId": "44045784-e58c-4179-a859-0bd2177916f5"
      },
      "execution_count": null,
      "outputs": [
        {
          "output_type": "display_data",
          "data": {
            "text/html": [
              "<html>\n",
              "<head><meta charset=\"utf-8\" /></head>\n",
              "<body>\n",
              "    <div>            <script src=\"https://cdnjs.cloudflare.com/ajax/libs/mathjax/2.7.5/MathJax.js?config=TeX-AMS-MML_SVG\"></script><script type=\"text/javascript\">if (window.MathJax && window.MathJax.Hub && window.MathJax.Hub.Config) {window.MathJax.Hub.Config({SVG: {font: \"STIX-Web\"}});}</script>                <script type=\"text/javascript\">window.PlotlyConfig = {MathJaxConfig: 'local'};</script>\n",
              "        <script charset=\"utf-8\" src=\"https://cdn.plot.ly/plotly-2.24.1.min.js\"></script>                <div id=\"7f30bcd4-bb0e-44a3-bdb2-d14da978f5e2\" class=\"plotly-graph-div\" style=\"height:525px; width:100%;\"></div>            <script type=\"text/javascript\">                                    window.PLOTLYENV=window.PLOTLYENV || {};                                    if (document.getElementById(\"7f30bcd4-bb0e-44a3-bdb2-d14da978f5e2\")) {                    Plotly.newPlot(                        \"7f30bcd4-bb0e-44a3-bdb2-d14da978f5e2\",                        [{\"facecolor\":[1.0,0.0,0.0],\"i\":[0,3,6,7,5,3,0,3,6,7,5,3],\"j\":[1,4,2,5,7,1,2,5,1,4,2,0],\"k\":[2,5,1,4,2,0,7,6,3,0,6,4],\"opacity\":0.5,\"x\":[-0.5,-0.5,-0.5,0.5,0.5,0.5,0.5,-0.5],\"y\":[-0.5,-0.5,0.5,-0.5,-0.5,0.5,0.5,0.5],\"z\":[0.5,-0.5,-0.5,-0.5,0.5,0.5,-0.5,0.5],\"type\":\"mesh3d\"}],                        {\"scene\":{\"xaxis\":{\"visible\":false},\"yaxis\":{\"visible\":false},\"zaxis\":{\"visible\":false}},\"template\":{\"data\":{\"histogram2dcontour\":[{\"type\":\"histogram2dcontour\",\"colorbar\":{\"outlinewidth\":0,\"ticks\":\"\"},\"colorscale\":[[0.0,\"#0d0887\"],[0.1111111111111111,\"#46039f\"],[0.2222222222222222,\"#7201a8\"],[0.3333333333333333,\"#9c179e\"],[0.4444444444444444,\"#bd3786\"],[0.5555555555555556,\"#d8576b\"],[0.6666666666666666,\"#ed7953\"],[0.7777777777777778,\"#fb9f3a\"],[0.8888888888888888,\"#fdca26\"],[1.0,\"#f0f921\"]]}],\"choropleth\":[{\"type\":\"choropleth\",\"colorbar\":{\"outlinewidth\":0,\"ticks\":\"\"}}],\"histogram2d\":[{\"type\":\"histogram2d\",\"colorbar\":{\"outlinewidth\":0,\"ticks\":\"\"},\"colorscale\":[[0.0,\"#0d0887\"],[0.1111111111111111,\"#46039f\"],[0.2222222222222222,\"#7201a8\"],[0.3333333333333333,\"#9c179e\"],[0.4444444444444444,\"#bd3786\"],[0.5555555555555556,\"#d8576b\"],[0.6666666666666666,\"#ed7953\"],[0.7777777777777778,\"#fb9f3a\"],[0.8888888888888888,\"#fdca26\"],[1.0,\"#f0f921\"]]}],\"heatmap\":[{\"type\":\"heatmap\",\"colorbar\":{\"outlinewidth\":0,\"ticks\":\"\"},\"colorscale\":[[0.0,\"#0d0887\"],[0.1111111111111111,\"#46039f\"],[0.2222222222222222,\"#7201a8\"],[0.3333333333333333,\"#9c179e\"],[0.4444444444444444,\"#bd3786\"],[0.5555555555555556,\"#d8576b\"],[0.6666666666666666,\"#ed7953\"],[0.7777777777777778,\"#fb9f3a\"],[0.8888888888888888,\"#fdca26\"],[1.0,\"#f0f921\"]]}],\"heatmapgl\":[{\"type\":\"heatmapgl\",\"colorbar\":{\"outlinewidth\":0,\"ticks\":\"\"},\"colorscale\":[[0.0,\"#0d0887\"],[0.1111111111111111,\"#46039f\"],[0.2222222222222222,\"#7201a8\"],[0.3333333333333333,\"#9c179e\"],[0.4444444444444444,\"#bd3786\"],[0.5555555555555556,\"#d8576b\"],[0.6666666666666666,\"#ed7953\"],[0.7777777777777778,\"#fb9f3a\"],[0.8888888888888888,\"#fdca26\"],[1.0,\"#f0f921\"]]}],\"contourcarpet\":[{\"type\":\"contourcarpet\",\"colorbar\":{\"outlinewidth\":0,\"ticks\":\"\"}}],\"contour\":[{\"type\":\"contour\",\"colorbar\":{\"outlinewidth\":0,\"ticks\":\"\"},\"colorscale\":[[0.0,\"#0d0887\"],[0.1111111111111111,\"#46039f\"],[0.2222222222222222,\"#7201a8\"],[0.3333333333333333,\"#9c179e\"],[0.4444444444444444,\"#bd3786\"],[0.5555555555555556,\"#d8576b\"],[0.6666666666666666,\"#ed7953\"],[0.7777777777777778,\"#fb9f3a\"],[0.8888888888888888,\"#fdca26\"],[1.0,\"#f0f921\"]]}],\"surface\":[{\"type\":\"surface\",\"colorbar\":{\"outlinewidth\":0,\"ticks\":\"\"},\"colorscale\":[[0.0,\"#0d0887\"],[0.1111111111111111,\"#46039f\"],[0.2222222222222222,\"#7201a8\"],[0.3333333333333333,\"#9c179e\"],[0.4444444444444444,\"#bd3786\"],[0.5555555555555556,\"#d8576b\"],[0.6666666666666666,\"#ed7953\"],[0.7777777777777778,\"#fb9f3a\"],[0.8888888888888888,\"#fdca26\"],[1.0,\"#f0f921\"]]}],\"mesh3d\":[{\"type\":\"mesh3d\",\"colorbar\":{\"outlinewidth\":0,\"ticks\":\"\"}}],\"scatter\":[{\"fillpattern\":{\"fillmode\":\"overlay\",\"size\":10,\"solidity\":0.2},\"type\":\"scatter\"}],\"parcoords\":[{\"type\":\"parcoords\",\"line\":{\"colorbar\":{\"outlinewidth\":0,\"ticks\":\"\"}}}],\"scatterpolargl\":[{\"type\":\"scatterpolargl\",\"marker\":{\"colorbar\":{\"outlinewidth\":0,\"ticks\":\"\"}}}],\"bar\":[{\"error_x\":{\"color\":\"#2a3f5f\"},\"error_y\":{\"color\":\"#2a3f5f\"},\"marker\":{\"line\":{\"color\":\"#E5ECF6\",\"width\":0.5},\"pattern\":{\"fillmode\":\"overlay\",\"size\":10,\"solidity\":0.2}},\"type\":\"bar\"}],\"scattergeo\":[{\"type\":\"scattergeo\",\"marker\":{\"colorbar\":{\"outlinewidth\":0,\"ticks\":\"\"}}}],\"scatterpolar\":[{\"type\":\"scatterpolar\",\"marker\":{\"colorbar\":{\"outlinewidth\":0,\"ticks\":\"\"}}}],\"histogram\":[{\"marker\":{\"pattern\":{\"fillmode\":\"overlay\",\"size\":10,\"solidity\":0.2}},\"type\":\"histogram\"}],\"scattergl\":[{\"type\":\"scattergl\",\"marker\":{\"colorbar\":{\"outlinewidth\":0,\"ticks\":\"\"}}}],\"scatter3d\":[{\"type\":\"scatter3d\",\"line\":{\"colorbar\":{\"outlinewidth\":0,\"ticks\":\"\"}},\"marker\":{\"colorbar\":{\"outlinewidth\":0,\"ticks\":\"\"}}}],\"scattermapbox\":[{\"type\":\"scattermapbox\",\"marker\":{\"colorbar\":{\"outlinewidth\":0,\"ticks\":\"\"}}}],\"scatterternary\":[{\"type\":\"scatterternary\",\"marker\":{\"colorbar\":{\"outlinewidth\":0,\"ticks\":\"\"}}}],\"scattercarpet\":[{\"type\":\"scattercarpet\",\"marker\":{\"colorbar\":{\"outlinewidth\":0,\"ticks\":\"\"}}}],\"carpet\":[{\"aaxis\":{\"endlinecolor\":\"#2a3f5f\",\"gridcolor\":\"white\",\"linecolor\":\"white\",\"minorgridcolor\":\"white\",\"startlinecolor\":\"#2a3f5f\"},\"baxis\":{\"endlinecolor\":\"#2a3f5f\",\"gridcolor\":\"white\",\"linecolor\":\"white\",\"minorgridcolor\":\"white\",\"startlinecolor\":\"#2a3f5f\"},\"type\":\"carpet\"}],\"table\":[{\"cells\":{\"fill\":{\"color\":\"#EBF0F8\"},\"line\":{\"color\":\"white\"}},\"header\":{\"fill\":{\"color\":\"#C8D4E3\"},\"line\":{\"color\":\"white\"}},\"type\":\"table\"}],\"barpolar\":[{\"marker\":{\"line\":{\"color\":\"#E5ECF6\",\"width\":0.5},\"pattern\":{\"fillmode\":\"overlay\",\"size\":10,\"solidity\":0.2}},\"type\":\"barpolar\"}],\"pie\":[{\"automargin\":true,\"type\":\"pie\"}]},\"layout\":{\"autotypenumbers\":\"strict\",\"colorway\":[\"#636efa\",\"#EF553B\",\"#00cc96\",\"#ab63fa\",\"#FFA15A\",\"#19d3f3\",\"#FF6692\",\"#B6E880\",\"#FF97FF\",\"#FECB52\"],\"font\":{\"color\":\"#2a3f5f\"},\"hovermode\":\"closest\",\"hoverlabel\":{\"align\":\"left\"},\"paper_bgcolor\":\"white\",\"plot_bgcolor\":\"#E5ECF6\",\"polar\":{\"bgcolor\":\"#E5ECF6\",\"angularaxis\":{\"gridcolor\":\"white\",\"linecolor\":\"white\",\"ticks\":\"\"},\"radialaxis\":{\"gridcolor\":\"white\",\"linecolor\":\"white\",\"ticks\":\"\"}},\"ternary\":{\"bgcolor\":\"#E5ECF6\",\"aaxis\":{\"gridcolor\":\"white\",\"linecolor\":\"white\",\"ticks\":\"\"},\"baxis\":{\"gridcolor\":\"white\",\"linecolor\":\"white\",\"ticks\":\"\"},\"caxis\":{\"gridcolor\":\"white\",\"linecolor\":\"white\",\"ticks\":\"\"}},\"coloraxis\":{\"colorbar\":{\"outlinewidth\":0,\"ticks\":\"\"}},\"colorscale\":{\"sequential\":[[0.0,\"#0d0887\"],[0.1111111111111111,\"#46039f\"],[0.2222222222222222,\"#7201a8\"],[0.3333333333333333,\"#9c179e\"],[0.4444444444444444,\"#bd3786\"],[0.5555555555555556,\"#d8576b\"],[0.6666666666666666,\"#ed7953\"],[0.7777777777777778,\"#fb9f3a\"],[0.8888888888888888,\"#fdca26\"],[1.0,\"#f0f921\"]],\"sequentialminus\":[[0.0,\"#0d0887\"],[0.1111111111111111,\"#46039f\"],[0.2222222222222222,\"#7201a8\"],[0.3333333333333333,\"#9c179e\"],[0.4444444444444444,\"#bd3786\"],[0.5555555555555556,\"#d8576b\"],[0.6666666666666666,\"#ed7953\"],[0.7777777777777778,\"#fb9f3a\"],[0.8888888888888888,\"#fdca26\"],[1.0,\"#f0f921\"]],\"diverging\":[[0,\"#8e0152\"],[0.1,\"#c51b7d\"],[0.2,\"#de77ae\"],[0.3,\"#f1b6da\"],[0.4,\"#fde0ef\"],[0.5,\"#f7f7f7\"],[0.6,\"#e6f5d0\"],[0.7,\"#b8e186\"],[0.8,\"#7fbc41\"],[0.9,\"#4d9221\"],[1,\"#276419\"]]},\"xaxis\":{\"gridcolor\":\"white\",\"linecolor\":\"white\",\"ticks\":\"\",\"title\":{\"standoff\":15},\"zerolinecolor\":\"white\",\"automargin\":true,\"zerolinewidth\":2},\"yaxis\":{\"gridcolor\":\"white\",\"linecolor\":\"white\",\"ticks\":\"\",\"title\":{\"standoff\":15},\"zerolinecolor\":\"white\",\"automargin\":true,\"zerolinewidth\":2},\"scene\":{\"xaxis\":{\"backgroundcolor\":\"#E5ECF6\",\"gridcolor\":\"white\",\"linecolor\":\"white\",\"showbackground\":true,\"ticks\":\"\",\"zerolinecolor\":\"white\",\"gridwidth\":2},\"yaxis\":{\"backgroundcolor\":\"#E5ECF6\",\"gridcolor\":\"white\",\"linecolor\":\"white\",\"showbackground\":true,\"ticks\":\"\",\"zerolinecolor\":\"white\",\"gridwidth\":2},\"zaxis\":{\"backgroundcolor\":\"#E5ECF6\",\"gridcolor\":\"white\",\"linecolor\":\"white\",\"showbackground\":true,\"ticks\":\"\",\"zerolinecolor\":\"white\",\"gridwidth\":2}},\"shapedefaults\":{\"line\":{\"color\":\"#2a3f5f\"}},\"annotationdefaults\":{\"arrowcolor\":\"#2a3f5f\",\"arrowhead\":0,\"arrowwidth\":1},\"geo\":{\"bgcolor\":\"white\",\"landcolor\":\"#E5ECF6\",\"subunitcolor\":\"white\",\"showland\":true,\"showlakes\":true,\"lakecolor\":\"white\"},\"title\":{\"x\":0.05},\"mapbox\":{\"style\":\"light\"}}}},                        {\"responsive\": true}                    ).then(function(){\n",
              "                            \n",
              "var gd = document.getElementById('7f30bcd4-bb0e-44a3-bdb2-d14da978f5e2');\n",
              "var x = new MutationObserver(function (mutations, observer) {{\n",
              "        var display = window.getComputedStyle(gd).display;\n",
              "        if (!display || display === 'none') {{\n",
              "            console.log([gd, 'removed!']);\n",
              "            Plotly.purge(gd);\n",
              "            observer.disconnect();\n",
              "        }}\n",
              "}});\n",
              "\n",
              "// Listen for the removal of the full notebook cells\n",
              "var notebookContainer = gd.closest('#notebook-container');\n",
              "if (notebookContainer) {{\n",
              "    x.observe(notebookContainer, {childList: true});\n",
              "}}\n",
              "\n",
              "// Listen for the clearing of the current output cell\n",
              "var outputEl = gd.closest('.output');\n",
              "if (outputEl) {{\n",
              "    x.observe(outputEl, {childList: true});\n",
              "}}\n",
              "\n",
              "                        })                };                            </script>        </div>\n",
              "</body>\n",
              "</html>"
            ]
          },
          "metadata": {}
        },
        {
          "output_type": "display_data",
          "data": {
            "text/html": [
              "<html>\n",
              "<head><meta charset=\"utf-8\" /></head>\n",
              "<body>\n",
              "    <div>            <script src=\"https://cdnjs.cloudflare.com/ajax/libs/mathjax/2.7.5/MathJax.js?config=TeX-AMS-MML_SVG\"></script><script type=\"text/javascript\">if (window.MathJax && window.MathJax.Hub && window.MathJax.Hub.Config) {window.MathJax.Hub.Config({SVG: {font: \"STIX-Web\"}});}</script>                <script type=\"text/javascript\">window.PlotlyConfig = {MathJaxConfig: 'local'};</script>\n",
              "        <script charset=\"utf-8\" src=\"https://cdn.plot.ly/plotly-2.24.1.min.js\"></script>                <div id=\"6534abe9-cce7-4aae-9a4a-192b7565badf\" class=\"plotly-graph-div\" style=\"height:525px; width:100%;\"></div>            <script type=\"text/javascript\">                                    window.PLOTLYENV=window.PLOTLYENV || {};                                    if (document.getElementById(\"6534abe9-cce7-4aae-9a4a-192b7565badf\")) {                    Plotly.newPlot(                        \"6534abe9-cce7-4aae-9a4a-192b7565badf\",                        [{\"facecolor\":[1.0,0.0,0.0],\"i\":[0,0,0,0,5,5,5,5,5],\"j\":[1,2,3,4,4,3,2,1,0],\"k\":[2,3,4,1,3,2,1,0,4],\"opacity\":0.5,\"x\":[0.0,45.0,45.0,-45.0,-45.0,0.0],\"y\":[0.0,45.0,-45.0,-45.0,45.0,0.0],\"z\":[78.0,0.0,0.0,0.0,0.0,-78.0],\"type\":\"mesh3d\"}],                        {\"scene\":{\"xaxis\":{\"visible\":false},\"yaxis\":{\"visible\":false},\"zaxis\":{\"visible\":false}},\"template\":{\"data\":{\"histogram2dcontour\":[{\"type\":\"histogram2dcontour\",\"colorbar\":{\"outlinewidth\":0,\"ticks\":\"\"},\"colorscale\":[[0.0,\"#0d0887\"],[0.1111111111111111,\"#46039f\"],[0.2222222222222222,\"#7201a8\"],[0.3333333333333333,\"#9c179e\"],[0.4444444444444444,\"#bd3786\"],[0.5555555555555556,\"#d8576b\"],[0.6666666666666666,\"#ed7953\"],[0.7777777777777778,\"#fb9f3a\"],[0.8888888888888888,\"#fdca26\"],[1.0,\"#f0f921\"]]}],\"choropleth\":[{\"type\":\"choropleth\",\"colorbar\":{\"outlinewidth\":0,\"ticks\":\"\"}}],\"histogram2d\":[{\"type\":\"histogram2d\",\"colorbar\":{\"outlinewidth\":0,\"ticks\":\"\"},\"colorscale\":[[0.0,\"#0d0887\"],[0.1111111111111111,\"#46039f\"],[0.2222222222222222,\"#7201a8\"],[0.3333333333333333,\"#9c179e\"],[0.4444444444444444,\"#bd3786\"],[0.5555555555555556,\"#d8576b\"],[0.6666666666666666,\"#ed7953\"],[0.7777777777777778,\"#fb9f3a\"],[0.8888888888888888,\"#fdca26\"],[1.0,\"#f0f921\"]]}],\"heatmap\":[{\"type\":\"heatmap\",\"colorbar\":{\"outlinewidth\":0,\"ticks\":\"\"},\"colorscale\":[[0.0,\"#0d0887\"],[0.1111111111111111,\"#46039f\"],[0.2222222222222222,\"#7201a8\"],[0.3333333333333333,\"#9c179e\"],[0.4444444444444444,\"#bd3786\"],[0.5555555555555556,\"#d8576b\"],[0.6666666666666666,\"#ed7953\"],[0.7777777777777778,\"#fb9f3a\"],[0.8888888888888888,\"#fdca26\"],[1.0,\"#f0f921\"]]}],\"heatmapgl\":[{\"type\":\"heatmapgl\",\"colorbar\":{\"outlinewidth\":0,\"ticks\":\"\"},\"colorscale\":[[0.0,\"#0d0887\"],[0.1111111111111111,\"#46039f\"],[0.2222222222222222,\"#7201a8\"],[0.3333333333333333,\"#9c179e\"],[0.4444444444444444,\"#bd3786\"],[0.5555555555555556,\"#d8576b\"],[0.6666666666666666,\"#ed7953\"],[0.7777777777777778,\"#fb9f3a\"],[0.8888888888888888,\"#fdca26\"],[1.0,\"#f0f921\"]]}],\"contourcarpet\":[{\"type\":\"contourcarpet\",\"colorbar\":{\"outlinewidth\":0,\"ticks\":\"\"}}],\"contour\":[{\"type\":\"contour\",\"colorbar\":{\"outlinewidth\":0,\"ticks\":\"\"},\"colorscale\":[[0.0,\"#0d0887\"],[0.1111111111111111,\"#46039f\"],[0.2222222222222222,\"#7201a8\"],[0.3333333333333333,\"#9c179e\"],[0.4444444444444444,\"#bd3786\"],[0.5555555555555556,\"#d8576b\"],[0.6666666666666666,\"#ed7953\"],[0.7777777777777778,\"#fb9f3a\"],[0.8888888888888888,\"#fdca26\"],[1.0,\"#f0f921\"]]}],\"surface\":[{\"type\":\"surface\",\"colorbar\":{\"outlinewidth\":0,\"ticks\":\"\"},\"colorscale\":[[0.0,\"#0d0887\"],[0.1111111111111111,\"#46039f\"],[0.2222222222222222,\"#7201a8\"],[0.3333333333333333,\"#9c179e\"],[0.4444444444444444,\"#bd3786\"],[0.5555555555555556,\"#d8576b\"],[0.6666666666666666,\"#ed7953\"],[0.7777777777777778,\"#fb9f3a\"],[0.8888888888888888,\"#fdca26\"],[1.0,\"#f0f921\"]]}],\"mesh3d\":[{\"type\":\"mesh3d\",\"colorbar\":{\"outlinewidth\":0,\"ticks\":\"\"}}],\"scatter\":[{\"fillpattern\":{\"fillmode\":\"overlay\",\"size\":10,\"solidity\":0.2},\"type\":\"scatter\"}],\"parcoords\":[{\"type\":\"parcoords\",\"line\":{\"colorbar\":{\"outlinewidth\":0,\"ticks\":\"\"}}}],\"scatterpolargl\":[{\"type\":\"scatterpolargl\",\"marker\":{\"colorbar\":{\"outlinewidth\":0,\"ticks\":\"\"}}}],\"bar\":[{\"error_x\":{\"color\":\"#2a3f5f\"},\"error_y\":{\"color\":\"#2a3f5f\"},\"marker\":{\"line\":{\"color\":\"#E5ECF6\",\"width\":0.5},\"pattern\":{\"fillmode\":\"overlay\",\"size\":10,\"solidity\":0.2}},\"type\":\"bar\"}],\"scattergeo\":[{\"type\":\"scattergeo\",\"marker\":{\"colorbar\":{\"outlinewidth\":0,\"ticks\":\"\"}}}],\"scatterpolar\":[{\"type\":\"scatterpolar\",\"marker\":{\"colorbar\":{\"outlinewidth\":0,\"ticks\":\"\"}}}],\"histogram\":[{\"marker\":{\"pattern\":{\"fillmode\":\"overlay\",\"size\":10,\"solidity\":0.2}},\"type\":\"histogram\"}],\"scattergl\":[{\"type\":\"scattergl\",\"marker\":{\"colorbar\":{\"outlinewidth\":0,\"ticks\":\"\"}}}],\"scatter3d\":[{\"type\":\"scatter3d\",\"line\":{\"colorbar\":{\"outlinewidth\":0,\"ticks\":\"\"}},\"marker\":{\"colorbar\":{\"outlinewidth\":0,\"ticks\":\"\"}}}],\"scattermapbox\":[{\"type\":\"scattermapbox\",\"marker\":{\"colorbar\":{\"outlinewidth\":0,\"ticks\":\"\"}}}],\"scatterternary\":[{\"type\":\"scatterternary\",\"marker\":{\"colorbar\":{\"outlinewidth\":0,\"ticks\":\"\"}}}],\"scattercarpet\":[{\"type\":\"scattercarpet\",\"marker\":{\"colorbar\":{\"outlinewidth\":0,\"ticks\":\"\"}}}],\"carpet\":[{\"aaxis\":{\"endlinecolor\":\"#2a3f5f\",\"gridcolor\":\"white\",\"linecolor\":\"white\",\"minorgridcolor\":\"white\",\"startlinecolor\":\"#2a3f5f\"},\"baxis\":{\"endlinecolor\":\"#2a3f5f\",\"gridcolor\":\"white\",\"linecolor\":\"white\",\"minorgridcolor\":\"white\",\"startlinecolor\":\"#2a3f5f\"},\"type\":\"carpet\"}],\"table\":[{\"cells\":{\"fill\":{\"color\":\"#EBF0F8\"},\"line\":{\"color\":\"white\"}},\"header\":{\"fill\":{\"color\":\"#C8D4E3\"},\"line\":{\"color\":\"white\"}},\"type\":\"table\"}],\"barpolar\":[{\"marker\":{\"line\":{\"color\":\"#E5ECF6\",\"width\":0.5},\"pattern\":{\"fillmode\":\"overlay\",\"size\":10,\"solidity\":0.2}},\"type\":\"barpolar\"}],\"pie\":[{\"automargin\":true,\"type\":\"pie\"}]},\"layout\":{\"autotypenumbers\":\"strict\",\"colorway\":[\"#636efa\",\"#EF553B\",\"#00cc96\",\"#ab63fa\",\"#FFA15A\",\"#19d3f3\",\"#FF6692\",\"#B6E880\",\"#FF97FF\",\"#FECB52\"],\"font\":{\"color\":\"#2a3f5f\"},\"hovermode\":\"closest\",\"hoverlabel\":{\"align\":\"left\"},\"paper_bgcolor\":\"white\",\"plot_bgcolor\":\"#E5ECF6\",\"polar\":{\"bgcolor\":\"#E5ECF6\",\"angularaxis\":{\"gridcolor\":\"white\",\"linecolor\":\"white\",\"ticks\":\"\"},\"radialaxis\":{\"gridcolor\":\"white\",\"linecolor\":\"white\",\"ticks\":\"\"}},\"ternary\":{\"bgcolor\":\"#E5ECF6\",\"aaxis\":{\"gridcolor\":\"white\",\"linecolor\":\"white\",\"ticks\":\"\"},\"baxis\":{\"gridcolor\":\"white\",\"linecolor\":\"white\",\"ticks\":\"\"},\"caxis\":{\"gridcolor\":\"white\",\"linecolor\":\"white\",\"ticks\":\"\"}},\"coloraxis\":{\"colorbar\":{\"outlinewidth\":0,\"ticks\":\"\"}},\"colorscale\":{\"sequential\":[[0.0,\"#0d0887\"],[0.1111111111111111,\"#46039f\"],[0.2222222222222222,\"#7201a8\"],[0.3333333333333333,\"#9c179e\"],[0.4444444444444444,\"#bd3786\"],[0.5555555555555556,\"#d8576b\"],[0.6666666666666666,\"#ed7953\"],[0.7777777777777778,\"#fb9f3a\"],[0.8888888888888888,\"#fdca26\"],[1.0,\"#f0f921\"]],\"sequentialminus\":[[0.0,\"#0d0887\"],[0.1111111111111111,\"#46039f\"],[0.2222222222222222,\"#7201a8\"],[0.3333333333333333,\"#9c179e\"],[0.4444444444444444,\"#bd3786\"],[0.5555555555555556,\"#d8576b\"],[0.6666666666666666,\"#ed7953\"],[0.7777777777777778,\"#fb9f3a\"],[0.8888888888888888,\"#fdca26\"],[1.0,\"#f0f921\"]],\"diverging\":[[0,\"#8e0152\"],[0.1,\"#c51b7d\"],[0.2,\"#de77ae\"],[0.3,\"#f1b6da\"],[0.4,\"#fde0ef\"],[0.5,\"#f7f7f7\"],[0.6,\"#e6f5d0\"],[0.7,\"#b8e186\"],[0.8,\"#7fbc41\"],[0.9,\"#4d9221\"],[1,\"#276419\"]]},\"xaxis\":{\"gridcolor\":\"white\",\"linecolor\":\"white\",\"ticks\":\"\",\"title\":{\"standoff\":15},\"zerolinecolor\":\"white\",\"automargin\":true,\"zerolinewidth\":2},\"yaxis\":{\"gridcolor\":\"white\",\"linecolor\":\"white\",\"ticks\":\"\",\"title\":{\"standoff\":15},\"zerolinecolor\":\"white\",\"automargin\":true,\"zerolinewidth\":2},\"scene\":{\"xaxis\":{\"backgroundcolor\":\"#E5ECF6\",\"gridcolor\":\"white\",\"linecolor\":\"white\",\"showbackground\":true,\"ticks\":\"\",\"zerolinecolor\":\"white\",\"gridwidth\":2},\"yaxis\":{\"backgroundcolor\":\"#E5ECF6\",\"gridcolor\":\"white\",\"linecolor\":\"white\",\"showbackground\":true,\"ticks\":\"\",\"zerolinecolor\":\"white\",\"gridwidth\":2},\"zaxis\":{\"backgroundcolor\":\"#E5ECF6\",\"gridcolor\":\"white\",\"linecolor\":\"white\",\"showbackground\":true,\"ticks\":\"\",\"zerolinecolor\":\"white\",\"gridwidth\":2}},\"shapedefaults\":{\"line\":{\"color\":\"#2a3f5f\"}},\"annotationdefaults\":{\"arrowcolor\":\"#2a3f5f\",\"arrowhead\":0,\"arrowwidth\":1},\"geo\":{\"bgcolor\":\"white\",\"landcolor\":\"#E5ECF6\",\"subunitcolor\":\"white\",\"showland\":true,\"showlakes\":true,\"lakecolor\":\"white\"},\"title\":{\"x\":0.05},\"mapbox\":{\"style\":\"light\"}}}},                        {\"responsive\": true}                    ).then(function(){\n",
              "                            \n",
              "var gd = document.getElementById('6534abe9-cce7-4aae-9a4a-192b7565badf');\n",
              "var x = new MutationObserver(function (mutations, observer) {{\n",
              "        var display = window.getComputedStyle(gd).display;\n",
              "        if (!display || display === 'none') {{\n",
              "            console.log([gd, 'removed!']);\n",
              "            Plotly.purge(gd);\n",
              "            observer.disconnect();\n",
              "        }}\n",
              "}});\n",
              "\n",
              "// Listen for the removal of the full notebook cells\n",
              "var notebookContainer = gd.closest('#notebook-container');\n",
              "if (notebookContainer) {{\n",
              "    x.observe(notebookContainer, {childList: true});\n",
              "}}\n",
              "\n",
              "// Listen for the clearing of the current output cell\n",
              "var outputEl = gd.closest('.output');\n",
              "if (outputEl) {{\n",
              "    x.observe(outputEl, {childList: true});\n",
              "}}\n",
              "\n",
              "                        })                };                            </script>        </div>\n",
              "</body>\n",
              "</html>"
            ]
          },
          "metadata": {}
        },
        {
          "output_type": "display_data",
          "data": {
            "text/html": [
              "<html>\n",
              "<head><meta charset=\"utf-8\" /></head>\n",
              "<body>\n",
              "    <div>            <script src=\"https://cdnjs.cloudflare.com/ajax/libs/mathjax/2.7.5/MathJax.js?config=TeX-AMS-MML_SVG\"></script><script type=\"text/javascript\">if (window.MathJax && window.MathJax.Hub && window.MathJax.Hub.Config) {window.MathJax.Hub.Config({SVG: {font: \"STIX-Web\"}});}</script>                <script type=\"text/javascript\">window.PlotlyConfig = {MathJaxConfig: 'local'};</script>\n",
              "        <script charset=\"utf-8\" src=\"https://cdn.plot.ly/plotly-2.24.1.min.js\"></script>                <div id=\"8838deff-4c8b-4a91-9b01-dabcbf29c091\" class=\"plotly-graph-div\" style=\"height:525px; width:100%;\"></div>            <script type=\"text/javascript\">                                    window.PLOTLYENV=window.PLOTLYENV || {};                                    if (document.getElementById(\"8838deff-4c8b-4a91-9b01-dabcbf29c091\")) {                    Plotly.newPlot(                        \"8838deff-4c8b-4a91-9b01-dabcbf29c091\",                        [{\"facecolor\":[1.0,0.0,0.0],\"i\":[0,3,4,5,7,1,8,11,12,13,15,9,16,17,14,17,16,6,18,19,0,19,18,8,8,18,7,11,5,6,3,13,14,13,3,0],\"j\":[1,0,3,6,5,7,9,8,11,14,13,15,12,16,17,4,17,16,7,18,19,15,19,18,11,8,18,12,11,5,4,3,13,15,13,3],\"k\":[2,2,2,2,2,2,10,10,10,10,10,10,10,10,10,2,2,2,1,1,1,9,9,9,5,5,5,16,16,16,17,17,17,19,19,19],\"opacity\":0.5,\"x\":[0.5773500204086304,0.9341719746589661,0.9341719746589661,0.35682201385498047,0.5773500204086304,0.35682201385498047,0.5773500204086304,0.5773500204086304,-0.5773500204086304,-0.9341719746589661,-0.9341719746589661,-0.35682201385498047,-0.5773500204086304,-0.35682201385498047,-0.5773500204086304,-0.5773500204086304,0.0,0.0,0.0,0.0],\"y\":[-0.5773500204086304,-0.35682201385498047,0.35682201385498047,0.0,0.5773500204086304,0.0,0.5773500204086304,-0.5773500204086304,-0.5773500204086304,-0.35682201385498047,0.35682201385498047,0.0,0.5773500204086304,0.0,0.5773500204086304,-0.5773500204086304,0.9341719746589661,0.9341719746589661,-0.9341719746589661,-0.9341719746589661],\"z\":[0.5773500204086304,0.0,0.0,0.9341719746589661,0.5773500204086304,-0.9341719746589661,-0.5773500204086304,-0.5773500204086304,-0.5773500204086304,0.0,0.0,-0.9341719746589661,-0.5773500204086304,0.9341719746589661,0.5773500204086304,0.5773500204086304,-0.35682201385498047,0.35682201385498047,-0.35682201385498047,0.35682201385498047],\"type\":\"mesh3d\"}],                        {\"scene\":{\"xaxis\":{\"visible\":false},\"yaxis\":{\"visible\":false},\"zaxis\":{\"visible\":false}},\"template\":{\"data\":{\"histogram2dcontour\":[{\"type\":\"histogram2dcontour\",\"colorbar\":{\"outlinewidth\":0,\"ticks\":\"\"},\"colorscale\":[[0.0,\"#0d0887\"],[0.1111111111111111,\"#46039f\"],[0.2222222222222222,\"#7201a8\"],[0.3333333333333333,\"#9c179e\"],[0.4444444444444444,\"#bd3786\"],[0.5555555555555556,\"#d8576b\"],[0.6666666666666666,\"#ed7953\"],[0.7777777777777778,\"#fb9f3a\"],[0.8888888888888888,\"#fdca26\"],[1.0,\"#f0f921\"]]}],\"choropleth\":[{\"type\":\"choropleth\",\"colorbar\":{\"outlinewidth\":0,\"ticks\":\"\"}}],\"histogram2d\":[{\"type\":\"histogram2d\",\"colorbar\":{\"outlinewidth\":0,\"ticks\":\"\"},\"colorscale\":[[0.0,\"#0d0887\"],[0.1111111111111111,\"#46039f\"],[0.2222222222222222,\"#7201a8\"],[0.3333333333333333,\"#9c179e\"],[0.4444444444444444,\"#bd3786\"],[0.5555555555555556,\"#d8576b\"],[0.6666666666666666,\"#ed7953\"],[0.7777777777777778,\"#fb9f3a\"],[0.8888888888888888,\"#fdca26\"],[1.0,\"#f0f921\"]]}],\"heatmap\":[{\"type\":\"heatmap\",\"colorbar\":{\"outlinewidth\":0,\"ticks\":\"\"},\"colorscale\":[[0.0,\"#0d0887\"],[0.1111111111111111,\"#46039f\"],[0.2222222222222222,\"#7201a8\"],[0.3333333333333333,\"#9c179e\"],[0.4444444444444444,\"#bd3786\"],[0.5555555555555556,\"#d8576b\"],[0.6666666666666666,\"#ed7953\"],[0.7777777777777778,\"#fb9f3a\"],[0.8888888888888888,\"#fdca26\"],[1.0,\"#f0f921\"]]}],\"heatmapgl\":[{\"type\":\"heatmapgl\",\"colorbar\":{\"outlinewidth\":0,\"ticks\":\"\"},\"colorscale\":[[0.0,\"#0d0887\"],[0.1111111111111111,\"#46039f\"],[0.2222222222222222,\"#7201a8\"],[0.3333333333333333,\"#9c179e\"],[0.4444444444444444,\"#bd3786\"],[0.5555555555555556,\"#d8576b\"],[0.6666666666666666,\"#ed7953\"],[0.7777777777777778,\"#fb9f3a\"],[0.8888888888888888,\"#fdca26\"],[1.0,\"#f0f921\"]]}],\"contourcarpet\":[{\"type\":\"contourcarpet\",\"colorbar\":{\"outlinewidth\":0,\"ticks\":\"\"}}],\"contour\":[{\"type\":\"contour\",\"colorbar\":{\"outlinewidth\":0,\"ticks\":\"\"},\"colorscale\":[[0.0,\"#0d0887\"],[0.1111111111111111,\"#46039f\"],[0.2222222222222222,\"#7201a8\"],[0.3333333333333333,\"#9c179e\"],[0.4444444444444444,\"#bd3786\"],[0.5555555555555556,\"#d8576b\"],[0.6666666666666666,\"#ed7953\"],[0.7777777777777778,\"#fb9f3a\"],[0.8888888888888888,\"#fdca26\"],[1.0,\"#f0f921\"]]}],\"surface\":[{\"type\":\"surface\",\"colorbar\":{\"outlinewidth\":0,\"ticks\":\"\"},\"colorscale\":[[0.0,\"#0d0887\"],[0.1111111111111111,\"#46039f\"],[0.2222222222222222,\"#7201a8\"],[0.3333333333333333,\"#9c179e\"],[0.4444444444444444,\"#bd3786\"],[0.5555555555555556,\"#d8576b\"],[0.6666666666666666,\"#ed7953\"],[0.7777777777777778,\"#fb9f3a\"],[0.8888888888888888,\"#fdca26\"],[1.0,\"#f0f921\"]]}],\"mesh3d\":[{\"type\":\"mesh3d\",\"colorbar\":{\"outlinewidth\":0,\"ticks\":\"\"}}],\"scatter\":[{\"fillpattern\":{\"fillmode\":\"overlay\",\"size\":10,\"solidity\":0.2},\"type\":\"scatter\"}],\"parcoords\":[{\"type\":\"parcoords\",\"line\":{\"colorbar\":{\"outlinewidth\":0,\"ticks\":\"\"}}}],\"scatterpolargl\":[{\"type\":\"scatterpolargl\",\"marker\":{\"colorbar\":{\"outlinewidth\":0,\"ticks\":\"\"}}}],\"bar\":[{\"error_x\":{\"color\":\"#2a3f5f\"},\"error_y\":{\"color\":\"#2a3f5f\"},\"marker\":{\"line\":{\"color\":\"#E5ECF6\",\"width\":0.5},\"pattern\":{\"fillmode\":\"overlay\",\"size\":10,\"solidity\":0.2}},\"type\":\"bar\"}],\"scattergeo\":[{\"type\":\"scattergeo\",\"marker\":{\"colorbar\":{\"outlinewidth\":0,\"ticks\":\"\"}}}],\"scatterpolar\":[{\"type\":\"scatterpolar\",\"marker\":{\"colorbar\":{\"outlinewidth\":0,\"ticks\":\"\"}}}],\"histogram\":[{\"marker\":{\"pattern\":{\"fillmode\":\"overlay\",\"size\":10,\"solidity\":0.2}},\"type\":\"histogram\"}],\"scattergl\":[{\"type\":\"scattergl\",\"marker\":{\"colorbar\":{\"outlinewidth\":0,\"ticks\":\"\"}}}],\"scatter3d\":[{\"type\":\"scatter3d\",\"line\":{\"colorbar\":{\"outlinewidth\":0,\"ticks\":\"\"}},\"marker\":{\"colorbar\":{\"outlinewidth\":0,\"ticks\":\"\"}}}],\"scattermapbox\":[{\"type\":\"scattermapbox\",\"marker\":{\"colorbar\":{\"outlinewidth\":0,\"ticks\":\"\"}}}],\"scatterternary\":[{\"type\":\"scatterternary\",\"marker\":{\"colorbar\":{\"outlinewidth\":0,\"ticks\":\"\"}}}],\"scattercarpet\":[{\"type\":\"scattercarpet\",\"marker\":{\"colorbar\":{\"outlinewidth\":0,\"ticks\":\"\"}}}],\"carpet\":[{\"aaxis\":{\"endlinecolor\":\"#2a3f5f\",\"gridcolor\":\"white\",\"linecolor\":\"white\",\"minorgridcolor\":\"white\",\"startlinecolor\":\"#2a3f5f\"},\"baxis\":{\"endlinecolor\":\"#2a3f5f\",\"gridcolor\":\"white\",\"linecolor\":\"white\",\"minorgridcolor\":\"white\",\"startlinecolor\":\"#2a3f5f\"},\"type\":\"carpet\"}],\"table\":[{\"cells\":{\"fill\":{\"color\":\"#EBF0F8\"},\"line\":{\"color\":\"white\"}},\"header\":{\"fill\":{\"color\":\"#C8D4E3\"},\"line\":{\"color\":\"white\"}},\"type\":\"table\"}],\"barpolar\":[{\"marker\":{\"line\":{\"color\":\"#E5ECF6\",\"width\":0.5},\"pattern\":{\"fillmode\":\"overlay\",\"size\":10,\"solidity\":0.2}},\"type\":\"barpolar\"}],\"pie\":[{\"automargin\":true,\"type\":\"pie\"}]},\"layout\":{\"autotypenumbers\":\"strict\",\"colorway\":[\"#636efa\",\"#EF553B\",\"#00cc96\",\"#ab63fa\",\"#FFA15A\",\"#19d3f3\",\"#FF6692\",\"#B6E880\",\"#FF97FF\",\"#FECB52\"],\"font\":{\"color\":\"#2a3f5f\"},\"hovermode\":\"closest\",\"hoverlabel\":{\"align\":\"left\"},\"paper_bgcolor\":\"white\",\"plot_bgcolor\":\"#E5ECF6\",\"polar\":{\"bgcolor\":\"#E5ECF6\",\"angularaxis\":{\"gridcolor\":\"white\",\"linecolor\":\"white\",\"ticks\":\"\"},\"radialaxis\":{\"gridcolor\":\"white\",\"linecolor\":\"white\",\"ticks\":\"\"}},\"ternary\":{\"bgcolor\":\"#E5ECF6\",\"aaxis\":{\"gridcolor\":\"white\",\"linecolor\":\"white\",\"ticks\":\"\"},\"baxis\":{\"gridcolor\":\"white\",\"linecolor\":\"white\",\"ticks\":\"\"},\"caxis\":{\"gridcolor\":\"white\",\"linecolor\":\"white\",\"ticks\":\"\"}},\"coloraxis\":{\"colorbar\":{\"outlinewidth\":0,\"ticks\":\"\"}},\"colorscale\":{\"sequential\":[[0.0,\"#0d0887\"],[0.1111111111111111,\"#46039f\"],[0.2222222222222222,\"#7201a8\"],[0.3333333333333333,\"#9c179e\"],[0.4444444444444444,\"#bd3786\"],[0.5555555555555556,\"#d8576b\"],[0.6666666666666666,\"#ed7953\"],[0.7777777777777778,\"#fb9f3a\"],[0.8888888888888888,\"#fdca26\"],[1.0,\"#f0f921\"]],\"sequentialminus\":[[0.0,\"#0d0887\"],[0.1111111111111111,\"#46039f\"],[0.2222222222222222,\"#7201a8\"],[0.3333333333333333,\"#9c179e\"],[0.4444444444444444,\"#bd3786\"],[0.5555555555555556,\"#d8576b\"],[0.6666666666666666,\"#ed7953\"],[0.7777777777777778,\"#fb9f3a\"],[0.8888888888888888,\"#fdca26\"],[1.0,\"#f0f921\"]],\"diverging\":[[0,\"#8e0152\"],[0.1,\"#c51b7d\"],[0.2,\"#de77ae\"],[0.3,\"#f1b6da\"],[0.4,\"#fde0ef\"],[0.5,\"#f7f7f7\"],[0.6,\"#e6f5d0\"],[0.7,\"#b8e186\"],[0.8,\"#7fbc41\"],[0.9,\"#4d9221\"],[1,\"#276419\"]]},\"xaxis\":{\"gridcolor\":\"white\",\"linecolor\":\"white\",\"ticks\":\"\",\"title\":{\"standoff\":15},\"zerolinecolor\":\"white\",\"automargin\":true,\"zerolinewidth\":2},\"yaxis\":{\"gridcolor\":\"white\",\"linecolor\":\"white\",\"ticks\":\"\",\"title\":{\"standoff\":15},\"zerolinecolor\":\"white\",\"automargin\":true,\"zerolinewidth\":2},\"scene\":{\"xaxis\":{\"backgroundcolor\":\"#E5ECF6\",\"gridcolor\":\"white\",\"linecolor\":\"white\",\"showbackground\":true,\"ticks\":\"\",\"zerolinecolor\":\"white\",\"gridwidth\":2},\"yaxis\":{\"backgroundcolor\":\"#E5ECF6\",\"gridcolor\":\"white\",\"linecolor\":\"white\",\"showbackground\":true,\"ticks\":\"\",\"zerolinecolor\":\"white\",\"gridwidth\":2},\"zaxis\":{\"backgroundcolor\":\"#E5ECF6\",\"gridcolor\":\"white\",\"linecolor\":\"white\",\"showbackground\":true,\"ticks\":\"\",\"zerolinecolor\":\"white\",\"gridwidth\":2}},\"shapedefaults\":{\"line\":{\"color\":\"#2a3f5f\"}},\"annotationdefaults\":{\"arrowcolor\":\"#2a3f5f\",\"arrowhead\":0,\"arrowwidth\":1},\"geo\":{\"bgcolor\":\"white\",\"landcolor\":\"#E5ECF6\",\"subunitcolor\":\"white\",\"showland\":true,\"showlakes\":true,\"lakecolor\":\"white\"},\"title\":{\"x\":0.05},\"mapbox\":{\"style\":\"light\"}}}},                        {\"responsive\": true}                    ).then(function(){\n",
              "                            \n",
              "var gd = document.getElementById('8838deff-4c8b-4a91-9b01-dabcbf29c091');\n",
              "var x = new MutationObserver(function (mutations, observer) {{\n",
              "        var display = window.getComputedStyle(gd).display;\n",
              "        if (!display || display === 'none') {{\n",
              "            console.log([gd, 'removed!']);\n",
              "            Plotly.purge(gd);\n",
              "            observer.disconnect();\n",
              "        }}\n",
              "}});\n",
              "\n",
              "// Listen for the removal of the full notebook cells\n",
              "var notebookContainer = gd.closest('#notebook-container');\n",
              "if (notebookContainer) {{\n",
              "    x.observe(notebookContainer, {childList: true});\n",
              "}}\n",
              "\n",
              "// Listen for the clearing of the current output cell\n",
              "var outputEl = gd.closest('.output');\n",
              "if (outputEl) {{\n",
              "    x.observe(outputEl, {childList: true});\n",
              "}}\n",
              "\n",
              "                        })                };                            </script>        </div>\n",
              "</body>\n",
              "</html>"
            ]
          },
          "metadata": {}
        }
      ]
    },
    {
      "cell_type": "code",
      "source": [
        "mesh_names = ['cube.obj', 'diamond.obj', 'dodecahedron.obj']\n",
        "data_path = '/content/'\n",
        "mesh_list = list()\n",
        "device = torch.device('cuda')\n",
        "for mesh_name in mesh_names:\n",
        "  mesh = load_objs_as_meshes([os.path.join(data_path, mesh_name)])\n",
        "  print(mesh)\n",
        "  mesh_list.append(mesh)"
      ],
      "metadata": {
        "colab": {
          "base_uri": "https://localhost:8080/"
        },
        "id": "GytZPMvgiGc8",
        "outputId": "b16be1f7-2721-4e83-ab55-61e701cf8340"
      },
      "execution_count": null,
      "outputs": [
        {
          "output_type": "stream",
          "name": "stdout",
          "text": [
            "<pytorch3d.structures.meshes.Meshes object at 0x78a2df380d90>\n",
            "<pytorch3d.structures.meshes.Meshes object at 0x78a2df3825f0>\n",
            "<pytorch3d.structures.meshes.Meshes object at 0x78a2df383c10>\n"
          ]
        },
        {
          "output_type": "stream",
          "name": "stderr",
          "text": [
            "/usr/local/lib/python3.10/dist-packages/pytorch3d/io/obj_io.py:548: UserWarning:\n",
            "\n",
            "Mtl file does not exist: /content/./cube.mtl\n",
            "\n",
            "/usr/local/lib/python3.10/dist-packages/pytorch3d/io/obj_io.py:544: UserWarning:\n",
            "\n",
            "No mtl file provided\n",
            "\n"
          ]
        }
      ]
    },
    {
      "cell_type": "code",
      "source": [
        "# используем PyTorch3D, чтобы загрузить те же полигональные\n",
        "# сетки и построить список полигональных сеток, назначив его пере-\n",
        "# менной mesh_list:\n",
        "mesh_names = ['cube.obj', 'diamond.obj', 'dodecahedron.obj']\n",
        "data_path = '/content/'\n",
        "mesh_list = list()\n",
        "device = torch.device('cuda')\n",
        "for mesh_name in mesh_names:\n",
        "  mesh = load_objs_as_meshes([os.path.join(data_path, mesh_name)])\n",
        "  mesh_list.append(mesh)\n",
        "  print([os.path.join(data_path, mesh_name)])"
      ],
      "metadata": {
        "colab": {
          "base_uri": "https://localhost:8080/"
        },
        "id": "eCttFmsLZa2G",
        "outputId": "e48877b9-6759-4758-cf76-b086449d613f"
      },
      "execution_count": null,
      "outputs": [
        {
          "output_type": "stream",
          "name": "stdout",
          "text": [
            "['/content/cube.obj']\n",
            "['/content/diamond.obj']\n",
            "['/content/dodecahedron.obj']\n"
          ]
        }
      ]
    },
    {
      "cell_type": "code",
      "source": [
        "# возвращает минипакет полигональных сеток\n",
        "mesh_batch = join_meshes_as_batch(mesh_list, include_textures=False)"
      ],
      "metadata": {
        "id": "glMBNFd3ic7Q"
      },
      "execution_count": null,
      "outputs": []
    },
    {
      "cell_type": "markdown",
      "source": [
        "\n",
        "\n",
        "---\n",
        "\n"
      ],
      "metadata": {
        "id": "c8xByViikqfd"
      }
    },
    {
      "cell_type": "code",
      "source": [
        "# батч в списковом формате стр.61\n",
        "vertex_list = mesh_batch.verts_list()\n",
        "print('vertex_list = ', vertex_list)\n",
        "face_list = mesh_batch.faces_list()\n",
        "print('face_list = ', face_list)"
      ],
      "metadata": {
        "id": "5n3iG7RPZawJ"
      },
      "execution_count": null,
      "outputs": []
    },
    {
      "cell_type": "code",
      "source": [
        "# батч в дополненном формате стр.61\n",
        "vertex_padded = mesh_batch.verts_padded()\n",
        "print('vertex_padded = ', vertex_padded)\n",
        "face_padded = mesh_batch.faces_padded()\n",
        "print('face_padded = ', face_padded)"
      ],
      "metadata": {
        "id": "ZFgv6-E5ZasF"
      },
      "execution_count": null,
      "outputs": []
    },
    {
      "cell_type": "code",
      "source": [
        "# батч в упакованном формате стр.61\n",
        "vertex_packed = mesh_batch.verts_packed()\n",
        "print('vertex_packed = ', vertex_packed)\n",
        "face_packed = mesh_batch.faces_packed()\n",
        "print('face_packed = ', face_packed)\n",
        "num_vertices = vertex_packed.shape[0]\n",
        "print('num_vertices = ', num_vertices)"
      ],
      "metadata": {
        "id": "6Duq77gVZaoC"
      },
      "execution_count": null,
      "outputs": []
    },
    {
      "cell_type": "markdown",
      "source": [
        "\n",
        "\n",
        "---\n",
        "\n"
      ],
      "metadata": {
        "id": "h95JyyqLksui"
      }
    },
    {
      "cell_type": "code",
      "source": [
        "# клон достоверных сеточных моделей:\n",
        "mesh_batch_noisy = mesh_batch.clone()"
      ],
      "metadata": {
        "id": "kPZrVQHRksh_"
      },
      "execution_count": null,
      "outputs": []
    },
    {
      "cell_type": "code",
      "source": [
        "# Затем мы определяем переменную motion_gt, которая будет представ-\n",
        "# лять смещение между местоположением камеры и начальной точкой:\n",
        "motion_gt = np.array([3, 4, 5])\n",
        "motion_gt = torch.as_tensor(motion_gt)\n",
        "print('достоверные данные перемещения = ', motion_gt)\n",
        "motion_gt = motion_gt[None, :]\n",
        "motion_gt = motion_gt#.to(device)"
      ],
      "metadata": {
        "colab": {
          "base_uri": "https://localhost:8080/"
        },
        "id": "L0crJXUAksfT",
        "outputId": "bc0186fe-378a-4383-cfe9-f3ff0387dc29"
      },
      "execution_count": null,
      "outputs": [
        {
          "output_type": "stream",
          "name": "stdout",
          "text": [
            "достоверные данные перемещения =  tensor([3, 4, 5])\n"
          ]
        }
      ]
    },
    {
      "cell_type": "code",
      "source": [
        "# Для выполнения симуляции шумных мерных данных камеры глубины\n",
        "# мы генерируем случайный гауссов шум со средним значением, равным\n",
        "# motion_gt. Шумы добавляются в mesh_batch_noisy с помощью функции\n",
        "# PyTorch3D offset_verts:\n",
        "\n",
        "noise = (0.1**0.5)*torch.randn(\n",
        "mesh_batch_noisy.verts_packed().shape)#.to(device)\n",
        "motion_gt = np.array([3, 4, 5])\n",
        "motion_gt = torch.as_tensor(motion_gt)\n",
        "noise = noise + motion_gt\n",
        "mesh_batch_noisy = mesh_batch_noisy.offset_verts(noise).detach()"
      ],
      "metadata": {
        "id": "apYthz4qkscx"
      },
      "execution_count": null,
      "outputs": []
    },
    {
      "cell_type": "code",
      "source": [
        "mesh_batch_noisy"
      ],
      "metadata": {
        "id": "ps9m-cz3ksZh"
      },
      "execution_count": null,
      "outputs": []
    },
    {
      "cell_type": "code",
      "source": [
        "motion_estimate = torch.zeros(motion_gt.shape,\n",
        "# device=device,\n",
        "requires_grad=True)"
      ],
      "metadata": {
        "id": "N3fbjZjPksWM"
      },
      "execution_count": null,
      "outputs": []
    },
    {
      "cell_type": "code",
      "source": [
        "optimizer = torch.optim.SGD([motion_estimate], lr=0.1,momentum=0.9)"
      ],
      "metadata": {
        "id": "l1e6pXr0ksPQ"
      },
      "execution_count": null,
      "outputs": []
    },
    {
      "cell_type": "code",
      "source": [
        "for i in range(0, 200):\n",
        "  optimizer.zero_grad()\n",
        "  current_mesh_batch = mesh_batch.offset_verts(\n",
        "    motion_estimate.repeat(num_vertices,1))\n",
        "  sample_trg = sample_points_from_meshes(current_mesh_batch, 5000)\n",
        "  sample_src = sample_points_from_meshes(mesh_batch_noisy, 5000)\n",
        "  loss, _ = chamfer_distance(sample_trg, sample_src)\n",
        "  loss.backward()\n",
        "  optimizer.step()\n",
        "  print('i = ', i, ', motion_estimation = ', motion_estimate)"
      ],
      "metadata": {
        "colab": {
          "base_uri": "https://localhost:8080/"
        },
        "id": "1p-cP0ITmkg2",
        "outputId": "889d5403-cd8d-46a1-95a4-044a97f4ba0c"
      },
      "execution_count": null,
      "outputs": [
        {
          "output_type": "stream",
          "name": "stdout",
          "text": [
            "i =  0 , motion_estimation =  tensor([0.8375, 1.1132, 1.2774], requires_grad=True)\n",
            "i =  1 , motion_estimation =  tensor([2.1699, 2.8925, 3.3427], requires_grad=True)\n",
            "i =  2 , motion_estimation =  tensor([3.5420, 4.7151, 5.5264], requires_grad=True)\n",
            "i =  3 , motion_estimation =  tensor([4.6775, 6.2400, 7.4318], requires_grad=True)\n",
            "i =  4 , motion_estimation =  tensor([5.2386, 7.0348, 8.6109], requires_grad=True)\n",
            "i =  5 , motion_estimation =  tensor([5.0941, 6.9279, 8.7979], requires_grad=True)\n",
            "i =  6 , motion_estimation =  tensor([4.3571, 6.0412, 8.0453], requires_grad=True)\n",
            "i =  7 , motion_estimation =  tensor([3.3129, 4.7258, 6.6659], requires_grad=True)\n",
            "i =  8 , motion_estimation =  tensor([2.2876, 3.4147, 5.1304], requires_grad=True)\n",
            "i =  9 , motion_estimation =  tensor([1.4682, 2.3196, 3.7373], requires_grad=True)\n",
            "i =  10 , motion_estimation =  tensor([1.0630, 1.7189, 2.7441], requires_grad=True)\n",
            "i =  11 , motion_estimation =  tensor([1.1739, 1.7541, 2.3758], requires_grad=True)\n",
            "i =  12 , motion_estimation =  tensor([1.7300, 2.3575, 2.6602], requires_grad=True)\n",
            "i =  13 , motion_estimation =  tensor([2.5309, 3.2926, 3.4321], requires_grad=True)\n",
            "i =  14 , motion_estimation =  tensor([3.3387, 4.2481, 4.4147], requires_grad=True)\n",
            "i =  15 , motion_estimation =  tensor([4.0199, 5.0680, 5.3774], requires_grad=True)\n",
            "i =  16 , motion_estimation =  tensor([4.4168, 5.5946, 6.1919], requires_grad=True)\n",
            "i =  17 , motion_estimation =  tensor([4.4197, 5.6968, 6.7064], requires_grad=True)\n",
            "i =  18 , motion_estimation =  tensor([4.0586, 5.3843, 6.8294], requires_grad=True)\n",
            "i =  19 , motion_estimation =  tensor([3.4681, 4.7916, 6.5828], requires_grad=True)\n",
            "i =  20 , motion_estimation =  tensor([2.8182, 4.1127, 6.0842], requires_grad=True)\n",
            "i =  21 , motion_estimation =  tensor([2.2508, 3.4869, 5.4950], requires_grad=True)\n",
            "i =  22 , motion_estimation =  tensor([1.8500, 2.9978, 4.9188], requires_grad=True)\n",
            "i =  23 , motion_estimation =  tensor([1.6899, 2.7394, 4.4128], requires_grad=True)\n",
            "i =  24 , motion_estimation =  tensor([1.7995, 2.7587, 4.0572], requires_grad=True)\n",
            "i =  25 , motion_estimation =  tensor([2.1335, 3.0285, 3.9088], requires_grad=True)\n",
            "i =  26 , motion_estimation =  tensor([2.5930, 3.4445, 3.9666], requires_grad=True)\n",
            "i =  27 , motion_estimation =  tensor([3.0681, 3.8899, 4.1803], requires_grad=True)\n",
            "i =  28 , motion_estimation =  tensor([3.4834, 4.2930, 4.4858], requires_grad=True)\n",
            "i =  29 , motion_estimation =  tensor([3.7874, 4.6076, 4.8312], requires_grad=True)\n",
            "i =  30 , motion_estimation =  tensor([3.9254, 4.7909, 5.1613], requires_grad=True)\n",
            "i =  31 , motion_estimation =  tensor([3.8726, 4.8146, 5.4419], requires_grad=True)\n",
            "i =  32 , motion_estimation =  tensor([3.6525, 4.6902, 5.6386], requires_grad=True)\n",
            "i =  33 , motion_estimation =  tensor([3.3296, 4.4630, 5.7373], requires_grad=True)\n",
            "i =  34 , motion_estimation =  tensor([2.9801, 4.1898, 5.7436], requires_grad=True)\n",
            "i =  35 , motion_estimation =  tensor([2.6598, 3.9171, 5.6710], requires_grad=True)\n",
            "i =  36 , motion_estimation =  tensor([2.4107, 3.6784, 5.5386], requires_grad=True)\n",
            "i =  37 , motion_estimation =  tensor([2.2643, 3.5043, 5.3671], requires_grad=True)\n",
            "i =  38 , motion_estimation =  tensor([2.2359, 3.4198, 5.1767], requires_grad=True)\n",
            "i =  39 , motion_estimation =  tensor([2.3211, 3.4245, 4.9897], requires_grad=True)\n",
            "i =  40 , motion_estimation =  tensor([2.4942, 3.5077, 4.8270], requires_grad=True)\n",
            "i =  41 , motion_estimation =  tensor([2.7150, 3.6463, 4.7051], requires_grad=True)\n",
            "i =  42 , motion_estimation =  tensor([2.9494, 3.8089, 4.6299], requires_grad=True)\n",
            "i =  43 , motion_estimation =  tensor([3.1610, 3.9724, 4.6057], requires_grad=True)\n",
            "i =  44 , motion_estimation =  tensor([3.3238, 4.1153, 4.6327], requires_grad=True)\n",
            "i =  45 , motion_estimation =  tensor([3.4219, 4.2198, 4.7063], requires_grad=True)\n",
            "i =  46 , motion_estimation =  tensor([3.4488, 4.2814, 4.8112], requires_grad=True)\n",
            "i =  47 , motion_estimation =  tensor([3.4076, 4.2979, 4.9315], requires_grad=True)\n",
            "i =  48 , motion_estimation =  tensor([3.3069, 4.2712, 5.0525], requires_grad=True)\n",
            "i =  49 , motion_estimation =  tensor([3.1676, 4.2131, 5.1637], requires_grad=True)\n",
            "i =  50 , motion_estimation =  tensor([3.0100, 4.1305, 5.2533], requires_grad=True)\n",
            "i =  51 , motion_estimation =  tensor([2.8584, 4.0358, 5.3109], requires_grad=True)\n",
            "i =  52 , motion_estimation =  tensor([2.7357, 3.9446, 5.3392], requires_grad=True)\n",
            "i =  53 , motion_estimation =  tensor([2.6542, 3.8680, 5.3388], requires_grad=True)\n",
            "i =  54 , motion_estimation =  tensor([2.6209, 3.8149, 5.3104], requires_grad=True)\n",
            "i =  55 , motion_estimation =  tensor([2.6377, 3.7889, 5.2591], requires_grad=True)\n",
            "i =  56 , motion_estimation =  tensor([2.6963, 3.7931, 5.1915], requires_grad=True)\n",
            "i =  57 , motion_estimation =  tensor([2.7848, 3.8184, 5.1189], requires_grad=True)\n",
            "i =  58 , motion_estimation =  tensor([2.8859, 3.8612, 5.0461], requires_grad=True)\n",
            "i =  59 , motion_estimation =  tensor([2.9847, 3.9169, 4.9812], requires_grad=True)\n",
            "i =  60 , motion_estimation =  tensor([3.0684, 3.9719, 4.9307], requires_grad=True)\n",
            "i =  61 , motion_estimation =  tensor([3.1283, 4.0197, 4.8980], requires_grad=True)\n",
            "i =  62 , motion_estimation =  tensor([3.1579, 4.0555, 4.8829], requires_grad=True)\n",
            "i =  63 , motion_estimation =  tensor([3.1598, 4.0747, 4.8882], requires_grad=True)\n",
            "i =  64 , motion_estimation =  tensor([3.1339, 4.0772, 4.9124], requires_grad=True)\n",
            "i =  65 , motion_estimation =  tensor([3.0852, 4.0649, 4.9514], requires_grad=True)\n",
            "i =  66 , motion_estimation =  tensor([3.0204, 4.0430, 4.9972], requires_grad=True)\n",
            "i =  67 , motion_estimation =  tensor([2.9520, 4.0135, 5.0458], requires_grad=True)\n",
            "i =  68 , motion_estimation =  tensor([2.8907, 3.9807, 5.0946], requires_grad=True)\n",
            "i =  69 , motion_estimation =  tensor([2.8425, 3.9528, 5.1371], requires_grad=True)\n",
            "i =  70 , motion_estimation =  tensor([2.8150, 3.9315, 5.1693], requires_grad=True)\n",
            "i =  71 , motion_estimation =  tensor([2.8085, 3.9198, 5.1872], requires_grad=True)\n",
            "i =  72 , motion_estimation =  tensor([2.8236, 3.9169, 5.1905], requires_grad=True)\n",
            "i =  73 , motion_estimation =  tensor([2.8540, 3.9228, 5.1802], requires_grad=True)\n",
            "i =  74 , motion_estimation =  tensor([2.8936, 3.9361, 5.1584], requires_grad=True)\n",
            "i =  75 , motion_estimation =  tensor([2.9358, 3.9522, 5.1295], requires_grad=True)\n",
            "i =  76 , motion_estimation =  tensor([2.9746, 3.9704, 5.0996], requires_grad=True)\n",
            "i =  77 , motion_estimation =  tensor([3.0054, 3.9881, 5.0709], requires_grad=True)\n",
            "i =  78 , motion_estimation =  tensor([3.0234, 4.0012, 5.0443], requires_grad=True)\n",
            "i =  79 , motion_estimation =  tensor([3.0300, 4.0098, 5.0232], requires_grad=True)\n",
            "i =  80 , motion_estimation =  tensor([3.0227, 4.0127, 5.0096], requires_grad=True)\n",
            "i =  81 , motion_estimation =  tensor([3.0046, 4.0098, 5.0027], requires_grad=True)\n",
            "i =  82 , motion_estimation =  tensor([2.9793, 4.0033, 5.0028], requires_grad=True)\n",
            "i =  83 , motion_estimation =  tensor([2.9516, 3.9941, 5.0088], requires_grad=True)\n",
            "i =  84 , motion_estimation =  tensor([2.9256, 3.9807, 5.0227], requires_grad=True)\n",
            "i =  85 , motion_estimation =  tensor([2.9046, 3.9656, 5.0399], requires_grad=True)\n",
            "i =  86 , motion_estimation =  tensor([2.8909, 3.9538, 5.0584], requires_grad=True)\n",
            "i =  87 , motion_estimation =  tensor([2.8864, 3.9446, 5.0757], requires_grad=True)\n",
            "i =  88 , motion_estimation =  tensor([2.8908, 3.9390, 5.0916], requires_grad=True)\n",
            "i =  89 , motion_estimation =  tensor([2.9021, 3.9396, 5.1031], requires_grad=True)\n",
            "i =  90 , motion_estimation =  tensor([2.9203, 3.9435, 5.1109], requires_grad=True)\n",
            "i =  91 , motion_estimation =  tensor([2.9392, 3.9487, 5.1146], requires_grad=True)\n",
            "i =  92 , motion_estimation =  tensor([2.9591, 3.9570, 5.1159], requires_grad=True)\n",
            "i =  93 , motion_estimation =  tensor([2.9732, 3.9663, 5.1112], requires_grad=True)\n",
            "i =  94 , motion_estimation =  tensor([2.9809, 3.9771, 5.1038], requires_grad=True)\n",
            "i =  95 , motion_estimation =  tensor([2.9828, 3.9869, 5.0919], requires_grad=True)\n",
            "i =  96 , motion_estimation =  tensor([2.9788, 3.9952, 5.0786], requires_grad=True)\n",
            "i =  97 , motion_estimation =  tensor([2.9719, 3.9995, 5.0695], requires_grad=True)\n",
            "i =  98 , motion_estimation =  tensor([2.9620, 4.0012, 5.0615], requires_grad=True)\n",
            "i =  99 , motion_estimation =  tensor([2.9507, 4.0000, 5.0552], requires_grad=True)\n",
            "i =  100 , motion_estimation =  tensor([2.9401, 3.9962, 5.0493], requires_grad=True)\n",
            "i =  101 , motion_estimation =  tensor([2.9315, 3.9906, 5.0481], requires_grad=True)\n",
            "i =  102 , motion_estimation =  tensor([2.9247, 3.9853, 5.0476], requires_grad=True)\n",
            "i =  103 , motion_estimation =  tensor([2.9217, 3.9790, 5.0490], requires_grad=True)\n",
            "i =  104 , motion_estimation =  tensor([2.9223, 3.9733, 5.0504], requires_grad=True)\n",
            "i =  105 , motion_estimation =  tensor([2.9252, 3.9707, 5.0547], requires_grad=True)\n",
            "i =  106 , motion_estimation =  tensor([2.9315, 3.9686, 5.0591], requires_grad=True)\n",
            "i =  107 , motion_estimation =  tensor([2.9383, 3.9687, 5.0651], requires_grad=True)\n",
            "i =  108 , motion_estimation =  tensor([2.9466, 3.9694, 5.0723], requires_grad=True)\n",
            "i =  109 , motion_estimation =  tensor([2.9538, 3.9697, 5.0773], requires_grad=True)\n",
            "i =  110 , motion_estimation =  tensor([2.9609, 3.9729, 5.0796], requires_grad=True)\n",
            "i =  111 , motion_estimation =  tensor([2.9622, 3.9728, 5.0826], requires_grad=True)\n",
            "i =  112 , motion_estimation =  tensor([2.9615, 3.9767, 5.0850], requires_grad=True)\n",
            "i =  113 , motion_estimation =  tensor([2.9579, 3.9801, 5.0858], requires_grad=True)\n",
            "i =  114 , motion_estimation =  tensor([2.9545, 3.9793, 5.0854], requires_grad=True)\n",
            "i =  115 , motion_estimation =  tensor([2.9498, 3.9783, 5.0856], requires_grad=True)\n",
            "i =  116 , motion_estimation =  tensor([2.9464, 3.9764, 5.0828], requires_grad=True)\n",
            "i =  117 , motion_estimation =  tensor([2.9423, 3.9734, 5.0792], requires_grad=True)\n",
            "i =  118 , motion_estimation =  tensor([2.9395, 3.9700, 5.0752], requires_grad=True)\n",
            "i =  119 , motion_estimation =  tensor([2.9378, 3.9674, 5.0720], requires_grad=True)\n",
            "i =  120 , motion_estimation =  tensor([2.9367, 3.9663, 5.0654], requires_grad=True)\n",
            "i =  121 , motion_estimation =  tensor([2.9374, 3.9688, 5.0597], requires_grad=True)\n",
            "i =  122 , motion_estimation =  tensor([2.9397, 3.9721, 5.0556], requires_grad=True)\n",
            "i =  123 , motion_estimation =  tensor([2.9422, 3.9745, 5.0514], requires_grad=True)\n",
            "i =  124 , motion_estimation =  tensor([2.9435, 3.9759, 5.0503], requires_grad=True)\n",
            "i =  125 , motion_estimation =  tensor([2.9445, 3.9776, 5.0482], requires_grad=True)\n",
            "i =  126 , motion_estimation =  tensor([2.9468, 3.9802, 5.0473], requires_grad=True)\n",
            "i =  127 , motion_estimation =  tensor([2.9517, 3.9837, 5.0493], requires_grad=True)\n",
            "i =  128 , motion_estimation =  tensor([2.9539, 3.9838, 5.0536], requires_grad=True)\n",
            "i =  129 , motion_estimation =  tensor([2.9543, 3.9823, 5.0596], requires_grad=True)\n",
            "i =  130 , motion_estimation =  tensor([2.9528, 3.9793, 5.0665], requires_grad=True)\n",
            "i =  131 , motion_estimation =  tensor([2.9521, 3.9756, 5.0746], requires_grad=True)\n",
            "i =  132 , motion_estimation =  tensor([2.9514, 3.9727, 5.0803], requires_grad=True)\n",
            "i =  133 , motion_estimation =  tensor([2.9509, 3.9728, 5.0840], requires_grad=True)\n",
            "i =  134 , motion_estimation =  tensor([2.9495, 3.9738, 5.0873], requires_grad=True)\n",
            "i =  135 , motion_estimation =  tensor([2.9476, 3.9761, 5.0879], requires_grad=True)\n",
            "i =  136 , motion_estimation =  tensor([2.9455, 3.9792, 5.0840], requires_grad=True)\n",
            "i =  137 , motion_estimation =  tensor([2.9460, 3.9834, 5.0788], requires_grad=True)\n",
            "i =  138 , motion_estimation =  tensor([2.9453, 3.9858, 5.0732], requires_grad=True)\n",
            "i =  139 , motion_estimation =  tensor([2.9456, 3.9864, 5.0667], requires_grad=True)\n",
            "i =  140 , motion_estimation =  tensor([2.9477, 3.9859, 5.0604], requires_grad=True)\n",
            "i =  141 , motion_estimation =  tensor([2.9502, 3.9821, 5.0585], requires_grad=True)\n",
            "i =  142 , motion_estimation =  tensor([2.9521, 3.9756, 5.0576], requires_grad=True)\n",
            "i =  143 , motion_estimation =  tensor([2.9564, 3.9683, 5.0595], requires_grad=True)\n",
            "i =  144 , motion_estimation =  tensor([2.9574, 3.9627, 5.0607], requires_grad=True)\n",
            "i =  145 , motion_estimation =  tensor([2.9544, 3.9601, 5.0642], requires_grad=True)\n",
            "i =  146 , motion_estimation =  tensor([2.9524, 3.9609, 5.0678], requires_grad=True)\n",
            "i =  147 , motion_estimation =  tensor([2.9483, 3.9632, 5.0682], requires_grad=True)\n",
            "i =  148 , motion_estimation =  tensor([2.9446, 3.9630, 5.0683], requires_grad=True)\n",
            "i =  149 , motion_estimation =  tensor([2.9426, 3.9661, 5.0677], requires_grad=True)\n",
            "i =  150 , motion_estimation =  tensor([2.9412, 3.9697, 5.0667], requires_grad=True)\n",
            "i =  151 , motion_estimation =  tensor([2.9412, 3.9747, 5.0650], requires_grad=True)\n",
            "i =  152 , motion_estimation =  tensor([2.9427, 3.9790, 5.0620], requires_grad=True)\n",
            "i =  153 , motion_estimation =  tensor([2.9460, 3.9823, 5.0600], requires_grad=True)\n",
            "i =  154 , motion_estimation =  tensor([2.9500, 3.9812, 5.0583], requires_grad=True)\n",
            "i =  155 , motion_estimation =  tensor([2.9538, 3.9791, 5.0578], requires_grad=True)\n",
            "i =  156 , motion_estimation =  tensor([2.9571, 3.9754, 5.0617], requires_grad=True)\n",
            "i =  157 , motion_estimation =  tensor([2.9581, 3.9710, 5.0667], requires_grad=True)\n",
            "i =  158 , motion_estimation =  tensor([2.9588, 3.9662, 5.0712], requires_grad=True)\n",
            "i =  159 , motion_estimation =  tensor([2.9583, 3.9625, 5.0755], requires_grad=True)\n",
            "i =  160 , motion_estimation =  tensor([2.9538, 3.9599, 5.0784], requires_grad=True)\n",
            "i =  161 , motion_estimation =  tensor([2.9484, 3.9587, 5.0818], requires_grad=True)\n",
            "i =  162 , motion_estimation =  tensor([2.9417, 3.9606, 5.0851], requires_grad=True)\n",
            "i =  163 , motion_estimation =  tensor([2.9376, 3.9633, 5.0877], requires_grad=True)\n",
            "i =  164 , motion_estimation =  tensor([2.9351, 3.9677, 5.0879], requires_grad=True)\n",
            "i =  165 , motion_estimation =  tensor([2.9347, 3.9723, 5.0875], requires_grad=True)\n",
            "i =  166 , motion_estimation =  tensor([2.9379, 3.9783, 5.0830], requires_grad=True)\n",
            "i =  167 , motion_estimation =  tensor([2.9418, 3.9848, 5.0784], requires_grad=True)\n",
            "i =  168 , motion_estimation =  tensor([2.9447, 3.9884, 5.0750], requires_grad=True)\n",
            "i =  169 , motion_estimation =  tensor([2.9490, 3.9919, 5.0733], requires_grad=True)\n",
            "i =  170 , motion_estimation =  tensor([2.9513, 3.9931, 5.0680], requires_grad=True)\n",
            "i =  171 , motion_estimation =  tensor([2.9524, 3.9929, 5.0623], requires_grad=True)\n",
            "i =  172 , motion_estimation =  tensor([2.9516, 3.9927, 5.0605], requires_grad=True)\n",
            "i =  173 , motion_estimation =  tensor([2.9508, 3.9891, 5.0586], requires_grad=True)\n",
            "i =  174 , motion_estimation =  tensor([2.9482, 3.9823, 5.0590], requires_grad=True)\n",
            "i =  175 , motion_estimation =  tensor([2.9463, 3.9778, 5.0580], requires_grad=True)\n",
            "i =  176 , motion_estimation =  tensor([2.9451, 3.9723, 5.0612], requires_grad=True)\n",
            "i =  177 , motion_estimation =  tensor([2.9432, 3.9693, 5.0643], requires_grad=True)\n",
            "i =  178 , motion_estimation =  tensor([2.9419, 3.9676, 5.0685], requires_grad=True)\n",
            "i =  179 , motion_estimation =  tensor([2.9423, 3.9693, 5.0694], requires_grad=True)\n",
            "i =  180 , motion_estimation =  tensor([2.9430, 3.9734, 5.0707], requires_grad=True)\n",
            "i =  181 , motion_estimation =  tensor([2.9448, 3.9762, 5.0708], requires_grad=True)\n",
            "i =  182 , motion_estimation =  tensor([2.9466, 3.9776, 5.0689], requires_grad=True)\n",
            "i =  183 , motion_estimation =  tensor([2.9495, 3.9786, 5.0671], requires_grad=True)\n",
            "i =  184 , motion_estimation =  tensor([2.9497, 3.9798, 5.0677], requires_grad=True)\n",
            "i =  185 , motion_estimation =  tensor([2.9493, 3.9786, 5.0651], requires_grad=True)\n",
            "i =  186 , motion_estimation =  tensor([2.9467, 3.9744, 5.0620], requires_grad=True)\n",
            "i =  187 , motion_estimation =  tensor([2.9435, 3.9709, 5.0586], requires_grad=True)\n",
            "i =  188 , motion_estimation =  tensor([2.9421, 3.9681, 5.0558], requires_grad=True)\n",
            "i =  189 , motion_estimation =  tensor([2.9413, 3.9691, 5.0520], requires_grad=True)\n",
            "i =  190 , motion_estimation =  tensor([2.9424, 3.9675, 5.0530], requires_grad=True)\n",
            "i =  191 , motion_estimation =  tensor([2.9445, 3.9651, 5.0558], requires_grad=True)\n",
            "i =  192 , motion_estimation =  tensor([2.9439, 3.9651, 5.0594], requires_grad=True)\n",
            "i =  193 , motion_estimation =  tensor([2.9429, 3.9637, 5.0658], requires_grad=True)\n",
            "i =  194 , motion_estimation =  tensor([2.9408, 3.9633, 5.0730], requires_grad=True)\n",
            "i =  195 , motion_estimation =  tensor([2.9413, 3.9668, 5.0797], requires_grad=True)\n",
            "i =  196 , motion_estimation =  tensor([2.9429, 3.9711, 5.0865], requires_grad=True)\n",
            "i =  197 , motion_estimation =  tensor([2.9446, 3.9754, 5.0933], requires_grad=True)\n",
            "i =  198 , motion_estimation =  tensor([2.9461, 3.9802, 5.0951], requires_grad=True)\n",
            "i =  199 , motion_estimation =  tensor([2.9451, 3.9836, 5.0944], requires_grad=True)\n"
          ]
        }
      ]
    },
    {
      "cell_type": "markdown",
      "source": [
        "# **Примеры программирования трансформации**\n",
        "# **и поворота**"
      ],
      "metadata": {
        "id": "UPGZhfk02Pj5"
      }
    },
    {
      "cell_type": "code",
      "source": [
        "import torch\n",
        "from pytorch3d.transforms.so3 import (so3_exp_map,\n",
        "                                      so3_log_map,\n",
        "                                      hat_inv, hat)"
      ],
      "metadata": {
        "id": "6r6DEZ39mkdy"
      },
      "execution_count": null,
      "outputs": []
    },
    {
      "cell_type": "code",
      "source": [
        "if torch.cuda.is_available():\n",
        "  device = torch.device(\"cuda:0\")\n",
        "else:\n",
        "  device = torch.device(\"cpu\")\n",
        "  print(\"ПРЕДУПРЕЖДЕНИЕ: только CPU, очень медленно!\")"
      ],
      "metadata": {
        "colab": {
          "base_uri": "https://localhost:8080/"
        },
        "id": "K4SSL-Pj2ShX",
        "outputId": "8f3db059-a5e2-4576-87d8-c719db4fab4b"
      },
      "execution_count": null,
      "outputs": [
        {
          "output_type": "stream",
          "name": "stdout",
          "text": [
            "ПРЕДУПРЕЖДЕНИЕ: только CPU, очень медленно!\n"
          ]
        }
      ]
    },
    {
      "cell_type": "code",
      "source": [
        "log_rot = torch.zeros([4, 3], device = device)\n",
        "log_rot[0, 0] = 0.001\n",
        "log_rot[0, 1] = 0.0001\n",
        "log_rot[0, 2] = 0.0002\n",
        "log_rot[1, 0] = 0.0001\n",
        "log_rot[1, 1] = 0.001\n",
        "log_rot[1, 2] = 0.0002\n",
        "log_rot[2, 0] = 0.0001\n",
        "log_rot[2, 1] = 0.0002\n",
        "log_rot[2, 2] = 0.001\n",
        "log_rot[3, 0] = 0.001\n",
        "log_rot[3, 1] = 0.002\n",
        "log_rot[3, 2] = 0.003"
      ],
      "metadata": {
        "id": "5OYcq4Bomkar"
      },
      "execution_count": null,
      "outputs": []
    },
    {
      "cell_type": "code",
      "source": [
        "log_rot_hat = hat(log_rot)\n",
        "print('log_rot_hat shape = ', log_rot_hat.shape)\n",
        "print('log_rot_hat = ', log_rot_hat)"
      ],
      "metadata": {
        "colab": {
          "base_uri": "https://localhost:8080/"
        },
        "id": "898vFWFrmkXZ",
        "outputId": "56e6e646-ddda-4826-b98c-48b1f01a47e9"
      },
      "execution_count": null,
      "outputs": [
        {
          "output_type": "stream",
          "name": "stdout",
          "text": [
            "log_rot_hat shape =  torch.Size([4, 3, 3])\n",
            "log_rot_hat =  tensor([[[ 0.0000e+00, -2.0000e-04,  1.0000e-04],\n",
            "         [ 2.0000e-04,  0.0000e+00, -1.0000e-03],\n",
            "         [-1.0000e-04,  1.0000e-03,  0.0000e+00]],\n",
            "\n",
            "        [[ 0.0000e+00, -2.0000e-04,  1.0000e-03],\n",
            "         [ 2.0000e-04,  0.0000e+00, -1.0000e-04],\n",
            "         [-1.0000e-03,  1.0000e-04,  0.0000e+00]],\n",
            "\n",
            "        [[ 0.0000e+00, -1.0000e-03,  2.0000e-04],\n",
            "         [ 1.0000e-03,  0.0000e+00, -1.0000e-04],\n",
            "         [-2.0000e-04,  1.0000e-04,  0.0000e+00]],\n",
            "\n",
            "        [[ 0.0000e+00, -3.0000e-03,  2.0000e-03],\n",
            "         [ 3.0000e-03,  0.0000e+00, -1.0000e-03],\n",
            "         [-2.0000e-03,  1.0000e-03,  0.0000e+00]]])\n"
          ]
        }
      ]
    },
    {
      "cell_type": "code",
      "source": [
        "log_rot_copy = hat_inv(log_rot_hat)\n",
        "print('log_rot_copy shape = ', log_rot_copy.shape)\n",
        "print('log_rot_copy = ', log_rot_copy)"
      ],
      "metadata": {
        "colab": {
          "base_uri": "https://localhost:8080/"
        },
        "id": "LSKJYvBcmkUO",
        "outputId": "6a340e2c-9328-4bd1-b269-2218d794910c"
      },
      "execution_count": null,
      "outputs": [
        {
          "output_type": "stream",
          "name": "stdout",
          "text": [
            "log_rot_copy shape =  torch.Size([4, 3])\n",
            "log_rot_copy =  tensor([[1.0000e-03, 1.0000e-04, 2.0000e-04],\n",
            "        [1.0000e-04, 1.0000e-03, 2.0000e-04],\n",
            "        [1.0000e-04, 2.0000e-04, 1.0000e-03],\n",
            "        [1.0000e-03, 2.0000e-03, 3.0000e-03]])\n"
          ]
        }
      ]
    },
    {
      "cell_type": "code",
      "source": [
        "rotation_matrices = so3_exp_map(log_rot)\n",
        "print('rotation_matrices = ', rotation_matrices)"
      ],
      "metadata": {
        "colab": {
          "base_uri": "https://localhost:8080/"
        },
        "id": "fjiv11XCmkPO",
        "outputId": "1db1e059-80c6-45e9-ad84-26ec6c7b6e49"
      },
      "execution_count": null,
      "outputs": [
        {
          "output_type": "stream",
          "name": "stdout",
          "text": [
            "rotation_matrices =  tensor([[[ 1.0000e+00, -1.9995e-04,  1.0010e-04],\n",
            "         [ 2.0005e-04,  1.0000e+00, -9.9999e-04],\n",
            "         [-9.9900e-05,  1.0000e-03,  1.0000e+00]],\n",
            "\n",
            "        [[ 1.0000e+00, -1.9995e-04,  1.0000e-03],\n",
            "         [ 2.0005e-04,  1.0000e+00, -9.9900e-05],\n",
            "         [-9.9999e-04,  1.0010e-04,  1.0000e+00]],\n",
            "\n",
            "        [[ 1.0000e+00, -9.9999e-04,  2.0005e-04],\n",
            "         [ 1.0000e-03,  1.0000e+00, -9.9900e-05],\n",
            "         [-1.9995e-04,  1.0010e-04,  1.0000e+00]],\n",
            "\n",
            "        [[ 9.9999e-01, -2.9990e-03,  2.0015e-03],\n",
            "         [ 3.0010e-03,  9.9999e-01, -9.9700e-04],\n",
            "         [-1.9985e-03,  1.0030e-03,  1.0000e+00]]])\n"
          ]
        }
      ]
    },
    {
      "cell_type": "code",
      "source": [
        "log_rot_again = so3_log_map(rotation_matrices)\n",
        "print('log_rot_again = ', log_rot_again)"
      ],
      "metadata": {
        "colab": {
          "base_uri": "https://localhost:8080/"
        },
        "id": "8yL7bkkRmkHR",
        "outputId": "68ee5242-ca9d-4983-9407-f77b315cd3c7"
      },
      "execution_count": null,
      "outputs": [
        {
          "output_type": "stream",
          "name": "stdout",
          "text": [
            "log_rot_again =  tensor([[1.0000e-03, 1.0000e-04, 2.0000e-04],\n",
            "        [1.0000e-04, 1.0000e-03, 2.0000e-04],\n",
            "        [1.0000e-04, 2.0000e-04, 1.0000e-03],\n",
            "        [1.0000e-03, 2.0000e-03, 3.0000e-03]])\n"
          ]
        }
      ]
    }
  ]
}